{
 "cells": [
  {
   "cell_type": "code",
   "execution_count": 104,
   "id": "80d72994",
   "metadata": {},
   "outputs": [],
   "source": [
    "import matplotlib.pyplot as plt\n",
    "import numpy as np\n",
    "import kneed\n",
    "import pickle\n",
    "import os\n",
    "\n",
    "from sklearn.cluster import KMeans\n",
    "from sklearn.mixture import GaussianMixture\n",
    "from sklearn.metrics import calinski_harabasz_score\n",
    "from sklearn.decomposition import PCA\n",
    "\n",
    "from datasets import *"
   ]
  },
  {
   "cell_type": "code",
   "execution_count": 105,
   "id": "ed75b8a9",
   "metadata": {},
   "outputs": [],
   "source": [
    "def train_kmeans(dataset):\n",
    "    path = f\"readings/kmeans_{dataset}.pkl\"\n",
    "    if os.path.exists(path): pickle.load(open(path, 'rb'))\n",
    "        \n",
    "    X, y = load_dataset(dataset)\n",
    "    n_clusters = [2, 4, 8, 16, 32, 48, 64]\n",
    "    out = {}\n",
    "    for k in n_clusters:\n",
    "        kmeans = KMeans(k)\n",
    "        y_pred = kmeans.fit_predict(X)\n",
    "        score = calinski_harabasz_score(X, y_pred)\n",
    "        out[k] = (kmeans, score)\n",
    "        print(k, score)\n",
    "    \n",
    "    pickle.dump(out, open(path, 'wb'))\n",
    "    return out"
   ]
  },
  {
   "cell_type": "code",
   "execution_count": 106,
   "id": "2079594d",
   "metadata": {},
   "outputs": [
    {
     "name": "stderr",
     "output_type": "stream",
     "text": [
      "/Users/vinit/miniforge3/envs/main/lib/python3.8/site-packages/sklearn/preprocessing/_data.py:3251: RuntimeWarning: divide by zero encountered in log\n",
      "  loglike = -n_samples / 2 * np.log(x_trans.var())\n"
     ]
    }
   ],
   "source": [
    "X, y = load_credit_score()"
   ]
  },
  {
   "cell_type": "code",
   "execution_count": 107,
   "id": "2e40f726",
   "metadata": {},
   "outputs": [
    {
     "name": "stderr",
     "output_type": "stream",
     "text": [
      "/Users/vinit/miniforge3/envs/main/lib/python3.8/site-packages/sklearn/preprocessing/_data.py:3216: RuntimeWarning: overflow encountered in power\n",
      "  out[pos] = (np.power(x[pos] + 1, lmbda) - 1) / lmbda\n",
      "/Users/vinit/miniforge3/envs/main/lib/python3.8/site-packages/numpy/core/_methods.py:233: RuntimeWarning: overflow encountered in multiply\n",
      "  x = um.multiply(x, x, out=x)\n",
      "/Users/vinit/miniforge3/envs/main/lib/python3.8/site-packages/numpy/core/_methods.py:244: RuntimeWarning: overflow encountered in reduce\n",
      "  ret = umr_sum(x, axis, dtype, out, keepdims=keepdims, where=where)\n"
     ]
    },
    {
     "name": "stdout",
     "output_type": "stream",
     "text": [
      "2 14036.82471492004\n",
      "4 8366.614984098154\n",
      "8 5607.365748117427\n",
      "16 3556.392589857755\n",
      "32 2191.414337609816\n",
      "48 1618.3842701873848\n",
      "64 1304.7548728397846\n"
     ]
    },
    {
     "data": {
      "text/plain": [
       "{2: (KMeans(n_clusters=2), 14036.82471492004),\n",
       " 4: (KMeans(n_clusters=4), 8366.614984098154),\n",
       " 8: (KMeans(), 5607.365748117427),\n",
       " 16: (KMeans(n_clusters=16), 3556.392589857755),\n",
       " 32: (KMeans(n_clusters=32), 2191.414337609816),\n",
       " 48: (KMeans(n_clusters=48), 1618.3842701873848),\n",
       " 64: (KMeans(n_clusters=64), 1304.7548728397846)}"
      ]
     },
     "execution_count": 107,
     "metadata": {},
     "output_type": "execute_result"
    }
   ],
   "source": [
    "train_kmeans('term_deposits')"
   ]
  },
  {
   "cell_type": "code",
   "execution_count": 108,
   "id": "30b80cf5",
   "metadata": {},
   "outputs": [
    {
     "name": "stderr",
     "output_type": "stream",
     "text": [
      "/Users/vinit/miniforge3/envs/main/lib/python3.8/site-packages/sklearn/preprocessing/_data.py:3251: RuntimeWarning: divide by zero encountered in log\n",
      "  loglike = -n_samples / 2 * np.log(x_trans.var())\n"
     ]
    },
    {
     "name": "stdout",
     "output_type": "stream",
     "text": [
      "2 19737.052100103814\n",
      "4 10903.133207489796\n",
      "8 7040.281936091837\n",
      "16 4903.158790272402\n",
      "32 3300.180848056724\n",
      "48 2572.1826032729864\n",
      "64 2103.983444071135\n"
     ]
    },
    {
     "data": {
      "text/plain": [
       "{2: (KMeans(n_clusters=2), 19737.052100103814),\n",
       " 4: (KMeans(n_clusters=4), 10903.133207489796),\n",
       " 8: (KMeans(), 7040.281936091837),\n",
       " 16: (KMeans(n_clusters=16), 4903.158790272402),\n",
       " 32: (KMeans(n_clusters=32), 3300.180848056724),\n",
       " 48: (KMeans(n_clusters=48), 2572.1826032729864),\n",
       " 64: (KMeans(n_clusters=64), 2103.983444071135)}"
      ]
     },
     "execution_count": 108,
     "metadata": {},
     "output_type": "execute_result"
    }
   ],
   "source": [
    "train_kmeans('credit_score')"
   ]
  },
  {
   "cell_type": "code",
   "execution_count": 109,
   "id": "d5c5649a",
   "metadata": {},
   "outputs": [],
   "source": [
    "def train_gmm(dataset):\n",
    "    path = f\"readings/gmm_{dataset}.pkl\"\n",
    "    if os.path.exists(path): pickle.load(open(path, 'rb'))\n",
    "        \n",
    "    X, y = load_dataset(dataset)\n",
    "    n_clusters = [2, 4, 8, 16, 32, 48, 64]\n",
    "    out = {}\n",
    "    for k in n_clusters:\n",
    "        gmm = GauGaussianMixtureanMixture(k)\n",
    "        y_pred = gmm.fit_predict(X)\n",
    "        score = calinski_harabasz_score(X, y_pred)\n",
    "        out[k] = (gmm, score)\n",
    "        print(k, score)\n",
    "    \n",
    "    pickle.dump(out, open(path, 'wb'))\n",
    "    return out"
   ]
  },
  {
   "cell_type": "code",
   "execution_count": 110,
   "id": "5641dae2",
   "metadata": {},
   "outputs": [
    {
     "name": "stderr",
     "output_type": "stream",
     "text": [
      "/Users/vinit/miniforge3/envs/main/lib/python3.8/site-packages/sklearn/preprocessing/_data.py:3216: RuntimeWarning: overflow encountered in power\n",
      "  out[pos] = (np.power(x[pos] + 1, lmbda) - 1) / lmbda\n",
      "/Users/vinit/miniforge3/envs/main/lib/python3.8/site-packages/numpy/core/_methods.py:233: RuntimeWarning: overflow encountered in multiply\n",
      "  x = um.multiply(x, x, out=x)\n",
      "/Users/vinit/miniforge3/envs/main/lib/python3.8/site-packages/numpy/core/_methods.py:244: RuntimeWarning: overflow encountered in reduce\n",
      "  ret = umr_sum(x, axis, dtype, out, keepdims=keepdims, where=where)\n"
     ]
    },
    {
     "name": "stdout",
     "output_type": "stream",
     "text": [
      "2 13975.051397925488\n",
      "4 6609.907633746095\n",
      "8 5727.081902619351\n",
      "16 3087.398591641744\n",
      "32 1771.7467561512344\n",
      "48 1285.7442919003138\n",
      "64 1007.5601354129955\n"
     ]
    },
    {
     "data": {
      "text/plain": [
       "{2: (GaussianMixture(n_components=2), 13975.051397925488),\n",
       " 4: (GaussianMixture(n_components=4), 6609.907633746095),\n",
       " 8: (GaussianMixture(n_components=8), 5727.081902619351),\n",
       " 16: (GaussianMixture(n_components=16), 3087.398591641744),\n",
       " 32: (GaussianMixture(n_components=32), 1771.7467561512344),\n",
       " 48: (GaussianMixture(n_components=48), 1285.7442919003138),\n",
       " 64: (GaussianMixture(n_components=64), 1007.5601354129955)}"
      ]
     },
     "execution_count": 110,
     "metadata": {},
     "output_type": "execute_result"
    }
   ],
   "source": [
    "train_gmm('term_deposits')"
   ]
  },
  {
   "cell_type": "code",
   "execution_count": 111,
   "id": "623e64f8",
   "metadata": {},
   "outputs": [
    {
     "name": "stderr",
     "output_type": "stream",
     "text": [
      "/Users/vinit/miniforge3/envs/main/lib/python3.8/site-packages/sklearn/preprocessing/_data.py:3251: RuntimeWarning: divide by zero encountered in log\n",
      "  loglike = -n_samples / 2 * np.log(x_trans.var())\n"
     ]
    },
    {
     "name": "stdout",
     "output_type": "stream",
     "text": [
      "2 16565.564175976113\n",
      "4 7129.741527051317\n",
      "8 3133.2115539409547\n",
      "16 1561.8229638814303\n",
      "32 873.4371112274167\n",
      "48 876.5112905517924\n",
      "64 590.4800117664515\n"
     ]
    },
    {
     "data": {
      "text/plain": [
       "{2: (GaussianMixture(n_components=2), 16565.564175976113),\n",
       " 4: (GaussianMixture(n_components=4), 7129.741527051317),\n",
       " 8: (GaussianMixture(n_components=8), 3133.2115539409547),\n",
       " 16: (GaussianMixture(n_components=16), 1561.8229638814303),\n",
       " 32: (GaussianMixture(n_components=32), 873.4371112274167),\n",
       " 48: (GaussianMixture(n_components=48), 876.5112905517924),\n",
       " 64: (GaussianMixture(n_components=64), 590.4800117664515)}"
      ]
     },
     "execution_count": 111,
     "metadata": {},
     "output_type": "execute_result"
    }
   ],
   "source": [
    "train_gmm('credit_score')"
   ]
  },
  {
   "cell_type": "code",
   "execution_count": null,
   "id": "14b6f754",
   "metadata": {},
   "outputs": [],
   "source": []
  },
  {
   "cell_type": "code",
   "execution_count": 112,
   "id": "1ab5413e",
   "metadata": {},
   "outputs": [],
   "source": [
    "def load_scores(key):\n",
    "    data = pickle.load(open(f\"readings/{key}.pkl\", \"rb\"))\n",
    "    return tuple(zip(*[(n, x[1]) for n, x in data.items()]))"
   ]
  },
  {
   "cell_type": "code",
   "execution_count": 130,
   "id": "c5ae15c6",
   "metadata": {},
   "outputs": [],
   "source": [
    "nclusters, score = load_scores('gmm_term_deposits')"
   ]
  },
  {
   "cell_type": "code",
   "execution_count": 136,
   "id": "df6aabfe",
   "metadata": {},
   "outputs": [
    {
     "data": {
      "image/png": "[encoded data removed]",
      "text/plain": [
       "<Figure size 432x432 with 1 Axes>"
      ]
     },
     "metadata": {
      "needs_background": "light"
     },
     "output_type": "display_data"
    }
   ],
   "source": [
    "knee = kneed.KneeLocator(nclusters, -np.array(score))\n",
    "knee.plot_knee()"
   ]
  },
  {
   "cell_type": "code",
   "execution_count": 200,
   "id": "b1361338",
   "metadata": {},
   "outputs": [
    {
     "name": "stderr",
     "output_type": "stream",
     "text": [
      "/Users/vinit/miniforge3/envs/main/lib/python3.8/site-packages/sklearn/preprocessing/_data.py:3251: RuntimeWarning: divide by zero encountered in log\n",
      "  loglike = -n_samples / 2 * np.log(x_trans.var())\n"
     ]
    }
   ],
   "source": [
    "dataset = 'credit_score'\n",
    "algo = 'kmeans'\n",
    "\n",
    "X, y = load_dataset(dataset)\n",
    "data = pickle.load(open(f\"readings/{algo}_{dataset}.pkl\", \"rb\"))"
   ]
  },
  {
   "cell_type": "code",
   "execution_count": 201,
   "id": "be7bd4d9",
   "metadata": {},
   "outputs": [],
   "source": [
    "from sklearn.tree import DecisionTreeClassifier\n",
    "from sklearn.metrics import f1_score\n",
    "\n",
    "def score(X, y, model):\n",
    "    tree = DecisionTreeClassifier(class_weight='balanced')\n",
    "    newX = model.predict(X).reshape((-1, 1))\n",
    "    tree.fit(newX, y)\n",
    "    return f1_score(y, tree.predict(newX), average='macro')\n",
    "\n",
    "\n",
    "nclusters = []\n",
    "scores = []\n",
    "for n, (model, _) in data.items():\n",
    "    nclusters.append(n)\n",
    "    scores.append(score(X, y, model))"
   ]
  },
  {
   "cell_type": "code",
   "execution_count": 202,
   "id": "2a047d12",
   "metadata": {},
   "outputs": [
    {
     "data": {
      "text/plain": [
       "[<matplotlib.lines.Line2D at 0x28e9d95b0>]"
      ]
     },
     "execution_count": 202,
     "metadata": {},
     "output_type": "execute_result"
    },
    {
     "data": {
      "image/png": "[encoded data removed]",
      "text/plain": [
       "<Figure size 432x288 with 1 Axes>"
      ]
     },
     "metadata": {
      "needs_background": "light"
     },
     "output_type": "display_data"
    }
   ],
   "source": [
    "plt.plot(nclusters, scores)"
   ]
  },
  {
   "cell_type": "code",
   "execution_count": 203,
   "id": "4742a0a3",
   "metadata": {},
   "outputs": [],
   "source": [
    "from sklearn.ensemble import GradientBoostingClassifier"
   ]
  },
  {
   "cell_type": "code",
   "execution_count": 209,
   "id": "edeae241",
   "metadata": {},
   "outputs": [],
   "source": [
    "boost = GradientBoostingClassifier(max_depth=8, n_estimators=400)"
   ]
  },
  {
   "cell_type": "code",
   "execution_count": null,
   "id": "c37ee147",
   "metadata": {},
   "outputs": [],
   "source": []
  },
  {
   "cell_type": "code",
   "execution_count": null,
   "id": "981a7510",
   "metadata": {},
   "outputs": [],
   "source": []
  },
  {
   "cell_type": "code",
   "execution_count": 213,
   "id": "1d8e5ce9",
   "metadata": {},
   "outputs": [],
   "source": [
    "from sklearn.decomposition import PCA, FastICA"
   ]
  },
  {
   "cell_type": "code",
   "execution_count": 296,
   "id": "9946abab",
   "metadata": {},
   "outputs": [
    {
     "name": "stdout",
     "output_type": "stream",
     "text": [
      "2 -0.4906784161475022\n",
      "4 8.652832398926428\n"
     ]
    },
    {
     "name": "stderr",
     "output_type": "stream",
     "text": [
      "/Users/vinit/miniforge3/envs/main/lib/python3.8/site-packages/sklearn/decomposition/_fastica.py:116: ConvergenceWarning: FastICA did not converge. Consider increasing tolerance or the maximum number of iterations.\n",
      "  warnings.warn(\n"
     ]
    },
    {
     "name": "stdout",
     "output_type": "stream",
     "text": [
      "8 19.318156970636498\n",
      "16 14.334657714354384\n",
      "32 9.677557957785847\n"
     ]
    },
    {
     "name": "stderr",
     "output_type": "stream",
     "text": [
      "/Users/vinit/miniforge3/envs/main/lib/python3.8/site-packages/sklearn/decomposition/_fastica.py:116: ConvergenceWarning: FastICA did not converge. Consider increasing tolerance or the maximum number of iterations.\n",
      "  warnings.warn(\n",
      "/Users/vinit/miniforge3/envs/main/lib/python3.8/site-packages/sklearn/decomposition/_fastica.py:519: UserWarning: n_components is too large: it will be set to 56\n",
      "  warnings.warn(\n"
     ]
    },
    {
     "name": "stdout",
     "output_type": "stream",
     "text": [
      "48 7.977143117745374\n",
      "64 3.0980037902029656\n"
     ]
    },
    {
     "name": "stderr",
     "output_type": "stream",
     "text": [
      "/Users/vinit/miniforge3/envs/main/lib/python3.8/site-packages/sklearn/decomposition/_fastica.py:116: ConvergenceWarning: FastICA did not converge. Consider increasing tolerance or the maximum number of iterations.\n",
      "  warnings.warn(\n"
     ]
    }
   ],
   "source": [
    "for n in [2, 4, 8, 16, 32, 48, 64]:\n",
    "    ica = FastICA(n, whiten='unit-variance')\n",
    "    ica.fit(X)\n",
    "    print(n, kurtosis(ica.transform(X), axis=0).mean())"
   ]
  },
  {
   "cell_type": "code",
   "execution_count": 297,
   "id": "322d34a5",
   "metadata": {},
   "outputs": [],
   "source": [
    "t = \"\"\"2 -0.4906784161475022\n",
    "4 8.652832398926428\n",
    "8 19.318156970636498\n",
    "16 14.334657714354384\n",
    "32 9.677557957785847\n",
    "48 7.977143117745374\n",
    "64 3.0980037902029656\"\"\".split('\\n')"
   ]
  },
  {
   "cell_type": "code",
   "execution_count": 300,
   "id": "05744e0c",
   "metadata": {},
   "outputs": [
    {
     "data": {
      "text/plain": [
       "[<matplotlib.lines.Line2D at 0x28f58abe0>]"
      ]
     },
     "execution_count": 300,
     "metadata": {},
     "output_type": "execute_result"
    },
    {
     "data": {
      "image/png": "[encoded data removed]",
      "text/plain": [
       "<Figure size 432x288 with 1 Axes>"
      ]
     },
     "metadata": {
      "needs_background": "light"
     },
     "output_type": "display_data"
    }
   ],
   "source": [
    "plt.plot(*list(zip(*[list(map(float, a.split(' '))) for a in t])))"
   ]
  },
  {
   "cell_type": "code",
   "execution_count": 224,
   "id": "bb359700",
   "metadata": {},
   "outputs": [],
   "source": [
    "from scipy.stats import kurtosis"
   ]
  },
  {
   "cell_type": "code",
   "execution_count": 238,
   "id": "b5cb2c4c",
   "metadata": {},
   "outputs": [
    {
     "data": {
      "text/plain": [
       "6.612601325346887"
      ]
     },
     "execution_count": 238,
     "metadata": {},
     "output_type": "execute_result"
    }
   ],
   "source": [
    "kurtosis(X, axis=0).mean()"
   ]
  },
  {
   "cell_type": "code",
   "execution_count": 295,
   "id": "a1982869",
   "metadata": {},
   "outputs": [
    {
     "data": {
      "text/plain": [
       "(56,)"
      ]
     },
     "execution_count": 295,
     "metadata": {},
     "output_type": "execute_result"
    }
   ],
   "source": [
    "ica.mean_.shape"
   ]
  },
  {
   "cell_type": "code",
   "execution_count": 236,
   "id": "741eb73b",
   "metadata": {},
   "outputs": [
    {
     "data": {
      "text/plain": [
       "4.400292254367207"
      ]
     },
     "execution_count": 236,
     "metadata": {},
     "output_type": "execute_result"
    }
   ],
   "source": [
    "((X - X.mean(axis=0))**4).mean()"
   ]
  },
  {
   "cell_type": "code",
   "execution_count": null,
   "id": "6473ed5c",
   "metadata": {},
   "outputs": [],
   "source": []
  },
  {
   "cell_type": "code",
   "execution_count": 268,
   "id": "793dc498",
   "metadata": {},
   "outputs": [
    {
     "data": {
      "text/plain": [
       "0.11261931621674294"
      ]
     },
     "execution_count": 268,
     "metadata": {},
     "output_type": "execute_result"
    }
   ],
   "source": [
    "mean2"
   ]
  },
  {
   "cell_type": "code",
   "execution_count": 294,
   "id": "ea865f30",
   "metadata": {},
   "outputs": [
    {
     "data": {
      "text/plain": [
       "6.612601325346887"
      ]
     },
     "execution_count": 294,
     "metadata": {},
     "output_type": "execute_result"
    }
   ],
   "source": []
  },
  {
   "cell_type": "code",
   "execution_count": 240,
   "id": "f09ea86f",
   "metadata": {},
   "outputs": [
    {
     "data": {
      "text/plain": [
       "array([0.00345479, 0.00354161, 0.00341786, 0.00326782, 0.00353641,\n",
       "       0.00335567, 0.00326581, 0.00377327, 0.00315421, 0.00347538,\n",
       "       0.00341479, 0.00309314, 0.00348363, 0.00339742, 0.00306768,\n",
       "       0.00430767, 0.02366422, 0.03390792, 0.05369335, 0.02597454,\n",
       "       0.0111626 , 0.05265029, 0.06222978, 0.00493141, 0.01401463,\n",
       "       0.02091924, 0.01010838, 0.00872019, 0.01425571, 0.0361147 ,\n",
       "       0.        , 0.        , 0.        , 0.        , 0.        ,\n",
       "       0.        , 0.        , 0.        , 0.        , 1.        ,\n",
       "       0.        , 0.722466  , 1.        , 1.        , 1.        ,\n",
       "       1.        , 1.        , 1.        , 0.976144  , 1.        ,\n",
       "       1.        , 0.8648628 , 1.        , 0.96108612, 1.        ,\n",
       "       0.91242614])"
      ]
     },
     "execution_count": 240,
     "metadata": {},
     "output_type": "execute_result"
    }
   ],
   "source": [
    "((X - X.mean(axis=0))**2).mean(axis=0)**2"
   ]
  },
  {
   "cell_type": "code",
   "execution_count": null,
   "id": "615de2c1",
   "metadata": {},
   "outputs": [],
   "source": []
  },
  {
   "cell_type": "code",
   "execution_count": null,
   "id": "a898ef63",
   "metadata": {},
   "outputs": [],
   "source": []
  },
  {
   "cell_type": "code",
   "execution_count": 76,
   "id": "46266b30",
   "metadata": {},
   "outputs": [
    {
     "name": "stdout",
     "output_type": "stream",
     "text": [
      "2 14036.82471492004\n",
      "4 8366.613520562352\n",
      "8 5727.639141203562\n",
      "16 3559.4197891812605\n",
      "32 2174.316292276627\n",
      "48 1614.526480523732\n",
      "64 1309.7117479168016\n"
     ]
    }
   ],
   "source": [
    "n_clusters = [2, 4, 8, 16, 32, 48, 64]\n",
    "score = []\n",
    "\n",
    "for k in n_clusters:\n",
    "    kmeans = KMeans(k)\n",
    "    y_pred = kmeans.fit_predict(X)\n",
    "    score.append(calinski_harabasz_score(X, y_pred))\n",
    "    print(k, score[-1])"
   ]
  },
  {
   "cell_type": "code",
   "execution_count": 77,
   "id": "99c64ed8",
   "metadata": {},
   "outputs": [
    {
     "data": {
      "text/plain": [
       "[<matplotlib.lines.Line2D at 0x28764c3d0>]"
      ]
     },
     "execution_count": 77,
     "metadata": {},
     "output_type": "execute_result"
    },
    {
     "data": {
      "image/png": "[encoded data removed]",
      "text/plain": [
       "<Figure size 432x288 with 1 Axes>"
      ]
     },
     "metadata": {
      "needs_background": "light"
     },
     "output_type": "display_data"
    }
   ],
   "source": [
    "plt.plot(n_clusters, score)"
   ]
  },
  {
   "cell_type": "code",
   "execution_count": 81,
   "id": "c2224c46",
   "metadata": {},
   "outputs": [
    {
     "name": "stdout",
     "output_type": "stream",
     "text": [
      "Looking in indexes: https://pypi.org/simple, https://pypi.ngc.nvidia.com\n",
      "Collecting kneed\n",
      "  Downloading kneed-0.8.1-py2.py3-none-any.whl (10 kB)\n",
      "Requirement already satisfied: numpy>=1.14.2 in /Users/vinit/miniforge3/envs/main/lib/python3.8/site-packages (from kneed) (1.21.3)\n",
      "Requirement already satisfied: scipy>=1.0.0 in /Users/vinit/miniforge3/envs/main/lib/python3.8/site-packages (from kneed) (1.7.0)\n",
      "Installing collected packages: kneed\n",
      "Successfully installed kneed-0.8.1\n"
     ]
    }
   ],
   "source": [
    "!pip install kneed"
   ]
  },
  {
   "cell_type": "code",
   "execution_count": 83,
   "id": "38c757c6",
   "metadata": {},
   "outputs": [],
   "source": []
  },
  {
   "cell_type": "code",
   "execution_count": 99,
   "id": "4f868052",
   "metadata": {},
   "outputs": [
    {
     "name": "stdout",
     "output_type": "stream",
     "text": [
      "Knee:  16\n"
     ]
    },
    {
     "data": {
      "image/png": "[encoded data removed]",
      "text/plain": [
       "<Figure size 432x432 with 1 Axes>"
      ]
     },
     "metadata": {
      "needs_background": "light"
     },
     "output_type": "display_data"
    }
   ],
   "source": [
    "kneedle = kneed.KneeLocator(n_clusters, -np.array(score))\n",
    "print('Knee: ', kneedle.knee)\n",
    "kneedle.plot_knee()"
   ]
  },
  {
   "cell_type": "code",
   "execution_count": 98,
   "id": "efe73c91",
   "metadata": {},
   "outputs": [
    {
     "name": "stdout",
     "output_type": "stream",
     "text": [
      "Knee:  16\n"
     ]
    },
    {
     "data": {
      "image/png": "[encoded data removed]",
      "text/plain": [
       "<Figure size 432x432 with 1 Axes>"
      ]
     },
     "metadata": {
      "needs_background": "light"
     },
     "output_type": "display_data"
    }
   ],
   "source": []
  },
  {
   "cell_type": "code",
   "execution_count": 4,
   "id": "34a259a2",
   "metadata": {},
   "outputs": [
    {
     "name": "stdout",
     "output_type": "stream",
     "text": [
      "2 16565.564175976113\n",
      "4 7129.741527051317\n",
      "8 3576.4626756020366\n",
      "16 1643.3287382728386\n",
      "32 1085.8128001439088\n",
      "64 555.9431047127802\n"
     ]
    },
    {
     "ename": "KeyboardInterrupt",
     "evalue": "",
     "output_type": "error",
     "traceback": [
      "\u001b[0;31m---------------------------------------------------------------------------\u001b[0m",
      "\u001b[0;31mKeyboardInterrupt\u001b[0m                         Traceback (most recent call last)",
      "\u001b[0;32m/var/folders/p8/0wsy16q946lb_4prf1n0l93m0000gp/T/ipykernel_80080/3628944017.py\u001b[0m in \u001b[0;36m<module>\u001b[0;34m\u001b[0m\n\u001b[1;32m      4\u001b[0m \u001b[0;32mfor\u001b[0m \u001b[0mk\u001b[0m \u001b[0;32min\u001b[0m \u001b[0mn_clusters\u001b[0m\u001b[0;34m:\u001b[0m\u001b[0;34m\u001b[0m\u001b[0;34m\u001b[0m\u001b[0m\n\u001b[1;32m      5\u001b[0m     \u001b[0mgmm\u001b[0m \u001b[0;34m=\u001b[0m \u001b[0mGaussianMixture\u001b[0m\u001b[0;34m(\u001b[0m\u001b[0mk\u001b[0m\u001b[0;34m)\u001b[0m\u001b[0;34m\u001b[0m\u001b[0;34m\u001b[0m\u001b[0m\n\u001b[0;32m----> 6\u001b[0;31m     \u001b[0my_pred\u001b[0m \u001b[0;34m=\u001b[0m \u001b[0mgmm\u001b[0m\u001b[0;34m.\u001b[0m\u001b[0mfit_predict\u001b[0m\u001b[0;34m(\u001b[0m\u001b[0mX\u001b[0m\u001b[0;34m)\u001b[0m\u001b[0;34m\u001b[0m\u001b[0;34m\u001b[0m\u001b[0m\n\u001b[0m\u001b[1;32m      7\u001b[0m     \u001b[0mscore\u001b[0m\u001b[0;34m.\u001b[0m\u001b[0mappend\u001b[0m\u001b[0;34m(\u001b[0m\u001b[0mcalinski_harabasz_score\u001b[0m\u001b[0;34m(\u001b[0m\u001b[0mX\u001b[0m\u001b[0;34m,\u001b[0m \u001b[0my_pred\u001b[0m\u001b[0;34m)\u001b[0m\u001b[0;34m)\u001b[0m\u001b[0;34m\u001b[0m\u001b[0;34m\u001b[0m\u001b[0m\n\u001b[1;32m      8\u001b[0m     \u001b[0mprint\u001b[0m\u001b[0;34m(\u001b[0m\u001b[0mk\u001b[0m\u001b[0;34m,\u001b[0m \u001b[0mscore\u001b[0m\u001b[0;34m[\u001b[0m\u001b[0;34m-\u001b[0m\u001b[0;36m1\u001b[0m\u001b[0;34m]\u001b[0m\u001b[0;34m)\u001b[0m\u001b[0;34m\u001b[0m\u001b[0;34m\u001b[0m\u001b[0m\n",
      "\u001b[0;32m~/miniforge3/envs/main/lib/python3.8/site-packages/sklearn/mixture/_base.py\u001b[0m in \u001b[0;36mfit_predict\u001b[0;34m(self, X, y)\u001b[0m\n\u001b[1;32m    256\u001b[0m                 \u001b[0mprev_lower_bound\u001b[0m \u001b[0;34m=\u001b[0m \u001b[0mlower_bound\u001b[0m\u001b[0;34m\u001b[0m\u001b[0;34m\u001b[0m\u001b[0m\n\u001b[1;32m    257\u001b[0m \u001b[0;34m\u001b[0m\u001b[0m\n\u001b[0;32m--> 258\u001b[0;31m                 \u001b[0mlog_prob_norm\u001b[0m\u001b[0;34m,\u001b[0m \u001b[0mlog_resp\u001b[0m \u001b[0;34m=\u001b[0m \u001b[0mself\u001b[0m\u001b[0;34m.\u001b[0m\u001b[0m_e_step\u001b[0m\u001b[0;34m(\u001b[0m\u001b[0mX\u001b[0m\u001b[0;34m)\u001b[0m\u001b[0;34m\u001b[0m\u001b[0;34m\u001b[0m\u001b[0m\n\u001b[0m\u001b[1;32m    259\u001b[0m                 \u001b[0mself\u001b[0m\u001b[0;34m.\u001b[0m\u001b[0m_m_step\u001b[0m\u001b[0;34m(\u001b[0m\u001b[0mX\u001b[0m\u001b[0;34m,\u001b[0m \u001b[0mlog_resp\u001b[0m\u001b[0;34m)\u001b[0m\u001b[0;34m\u001b[0m\u001b[0;34m\u001b[0m\u001b[0m\n\u001b[1;32m    260\u001b[0m                 \u001b[0mlower_bound\u001b[0m \u001b[0;34m=\u001b[0m \u001b[0mself\u001b[0m\u001b[0;34m.\u001b[0m\u001b[0m_compute_lower_bound\u001b[0m\u001b[0;34m(\u001b[0m\u001b[0mlog_resp\u001b[0m\u001b[0;34m,\u001b[0m \u001b[0mlog_prob_norm\u001b[0m\u001b[0;34m)\u001b[0m\u001b[0;34m\u001b[0m\u001b[0;34m\u001b[0m\u001b[0m\n",
      "\u001b[0;32m~/miniforge3/envs/main/lib/python3.8/site-packages/sklearn/mixture/_base.py\u001b[0m in \u001b[0;36m_e_step\u001b[0;34m(self, X)\u001b[0m\n\u001b[1;32m    310\u001b[0m             \u001b[0mthe\u001b[0m \u001b[0mpoint\u001b[0m \u001b[0mof\u001b[0m \u001b[0meach\u001b[0m \u001b[0msample\u001b[0m \u001b[0;32min\u001b[0m \u001b[0mX\u001b[0m\u001b[0;34m.\u001b[0m\u001b[0;34m\u001b[0m\u001b[0;34m\u001b[0m\u001b[0m\n\u001b[1;32m    311\u001b[0m         \"\"\"\n\u001b[0;32m--> 312\u001b[0;31m         \u001b[0mlog_prob_norm\u001b[0m\u001b[0;34m,\u001b[0m \u001b[0mlog_resp\u001b[0m \u001b[0;34m=\u001b[0m \u001b[0mself\u001b[0m\u001b[0;34m.\u001b[0m\u001b[0m_estimate_log_prob_resp\u001b[0m\u001b[0;34m(\u001b[0m\u001b[0mX\u001b[0m\u001b[0;34m)\u001b[0m\u001b[0;34m\u001b[0m\u001b[0;34m\u001b[0m\u001b[0m\n\u001b[0m\u001b[1;32m    313\u001b[0m         \u001b[0;32mreturn\u001b[0m \u001b[0mnp\u001b[0m\u001b[0;34m.\u001b[0m\u001b[0mmean\u001b[0m\u001b[0;34m(\u001b[0m\u001b[0mlog_prob_norm\u001b[0m\u001b[0;34m)\u001b[0m\u001b[0;34m,\u001b[0m \u001b[0mlog_resp\u001b[0m\u001b[0;34m\u001b[0m\u001b[0;34m\u001b[0m\u001b[0m\n\u001b[1;32m    314\u001b[0m \u001b[0;34m\u001b[0m\u001b[0m\n",
      "\u001b[0;32m~/miniforge3/envs/main/lib/python3.8/site-packages/sklearn/mixture/_base.py\u001b[0m in \u001b[0;36m_estimate_log_prob_resp\u001b[0;34m(self, X)\u001b[0m\n\u001b[1;32m    528\u001b[0m             \u001b[0mlogarithm\u001b[0m \u001b[0mof\u001b[0m \u001b[0mthe\u001b[0m \u001b[0mresponsibilities\u001b[0m\u001b[0;34m\u001b[0m\u001b[0;34m\u001b[0m\u001b[0m\n\u001b[1;32m    529\u001b[0m         \"\"\"\n\u001b[0;32m--> 530\u001b[0;31m         \u001b[0mweighted_log_prob\u001b[0m \u001b[0;34m=\u001b[0m \u001b[0mself\u001b[0m\u001b[0;34m.\u001b[0m\u001b[0m_estimate_weighted_log_prob\u001b[0m\u001b[0;34m(\u001b[0m\u001b[0mX\u001b[0m\u001b[0;34m)\u001b[0m\u001b[0;34m\u001b[0m\u001b[0;34m\u001b[0m\u001b[0m\n\u001b[0m\u001b[1;32m    531\u001b[0m         \u001b[0mlog_prob_norm\u001b[0m \u001b[0;34m=\u001b[0m \u001b[0mlogsumexp\u001b[0m\u001b[0;34m(\u001b[0m\u001b[0mweighted_log_prob\u001b[0m\u001b[0;34m,\u001b[0m \u001b[0maxis\u001b[0m\u001b[0;34m=\u001b[0m\u001b[0;36m1\u001b[0m\u001b[0;34m)\u001b[0m\u001b[0;34m\u001b[0m\u001b[0;34m\u001b[0m\u001b[0m\n\u001b[1;32m    532\u001b[0m         \u001b[0;32mwith\u001b[0m \u001b[0mnp\u001b[0m\u001b[0;34m.\u001b[0m\u001b[0merrstate\u001b[0m\u001b[0;34m(\u001b[0m\u001b[0munder\u001b[0m\u001b[0;34m=\u001b[0m\u001b[0;34m\"ignore\"\u001b[0m\u001b[0;34m)\u001b[0m\u001b[0;34m:\u001b[0m\u001b[0;34m\u001b[0m\u001b[0;34m\u001b[0m\u001b[0m\n",
      "\u001b[0;32m~/miniforge3/envs/main/lib/python3.8/site-packages/sklearn/mixture/_base.py\u001b[0m in \u001b[0;36m_estimate_weighted_log_prob\u001b[0;34m(self, X)\u001b[0m\n\u001b[1;32m    481\u001b[0m         \u001b[0mweighted_log_prob\u001b[0m \u001b[0;34m:\u001b[0m \u001b[0marray\u001b[0m\u001b[0;34m,\u001b[0m \u001b[0mshape\u001b[0m \u001b[0;34m(\u001b[0m\u001b[0mn_samples\u001b[0m\u001b[0;34m,\u001b[0m \u001b[0mn_component\u001b[0m\u001b[0;34m)\u001b[0m\u001b[0;34m\u001b[0m\u001b[0;34m\u001b[0m\u001b[0m\n\u001b[1;32m    482\u001b[0m         \"\"\"\n\u001b[0;32m--> 483\u001b[0;31m         \u001b[0;32mreturn\u001b[0m \u001b[0mself\u001b[0m\u001b[0;34m.\u001b[0m\u001b[0m_estimate_log_prob\u001b[0m\u001b[0;34m(\u001b[0m\u001b[0mX\u001b[0m\u001b[0;34m)\u001b[0m \u001b[0;34m+\u001b[0m \u001b[0mself\u001b[0m\u001b[0;34m.\u001b[0m\u001b[0m_estimate_log_weights\u001b[0m\u001b[0;34m(\u001b[0m\u001b[0;34m)\u001b[0m\u001b[0;34m\u001b[0m\u001b[0;34m\u001b[0m\u001b[0m\n\u001b[0m\u001b[1;32m    484\u001b[0m \u001b[0;34m\u001b[0m\u001b[0m\n\u001b[1;32m    485\u001b[0m     \u001b[0;34m@\u001b[0m\u001b[0mabstractmethod\u001b[0m\u001b[0;34m\u001b[0m\u001b[0;34m\u001b[0m\u001b[0m\n",
      "\u001b[0;32m~/miniforge3/envs/main/lib/python3.8/site-packages/sklearn/mixture/_gaussian_mixture.py\u001b[0m in \u001b[0;36m_estimate_log_prob\u001b[0;34m(self, X)\u001b[0m\n\u001b[1;32m    751\u001b[0m \u001b[0;34m\u001b[0m\u001b[0m\n\u001b[1;32m    752\u001b[0m     \u001b[0;32mdef\u001b[0m \u001b[0m_estimate_log_prob\u001b[0m\u001b[0;34m(\u001b[0m\u001b[0mself\u001b[0m\u001b[0;34m,\u001b[0m \u001b[0mX\u001b[0m\u001b[0;34m)\u001b[0m\u001b[0;34m:\u001b[0m\u001b[0;34m\u001b[0m\u001b[0;34m\u001b[0m\u001b[0m\n\u001b[0;32m--> 753\u001b[0;31m         return _estimate_log_gaussian_prob(\n\u001b[0m\u001b[1;32m    754\u001b[0m             \u001b[0mX\u001b[0m\u001b[0;34m,\u001b[0m \u001b[0mself\u001b[0m\u001b[0;34m.\u001b[0m\u001b[0mmeans_\u001b[0m\u001b[0;34m,\u001b[0m \u001b[0mself\u001b[0m\u001b[0;34m.\u001b[0m\u001b[0mprecisions_cholesky_\u001b[0m\u001b[0;34m,\u001b[0m \u001b[0mself\u001b[0m\u001b[0;34m.\u001b[0m\u001b[0mcovariance_type\u001b[0m\u001b[0;34m\u001b[0m\u001b[0;34m\u001b[0m\u001b[0m\n\u001b[1;32m    755\u001b[0m         )\n",
      "\u001b[0;32m~/miniforge3/envs/main/lib/python3.8/site-packages/sklearn/mixture/_gaussian_mixture.py\u001b[0m in \u001b[0;36m_estimate_log_gaussian_prob\u001b[0;34m(X, means, precisions_chol, covariance_type)\u001b[0m\n\u001b[1;32m    423\u001b[0m         \u001b[0;32mfor\u001b[0m \u001b[0mk\u001b[0m\u001b[0;34m,\u001b[0m \u001b[0;34m(\u001b[0m\u001b[0mmu\u001b[0m\u001b[0;34m,\u001b[0m \u001b[0mprec_chol\u001b[0m\u001b[0;34m)\u001b[0m \u001b[0;32min\u001b[0m \u001b[0menumerate\u001b[0m\u001b[0;34m(\u001b[0m\u001b[0mzip\u001b[0m\u001b[0;34m(\u001b[0m\u001b[0mmeans\u001b[0m\u001b[0;34m,\u001b[0m \u001b[0mprecisions_chol\u001b[0m\u001b[0;34m)\u001b[0m\u001b[0;34m)\u001b[0m\u001b[0;34m:\u001b[0m\u001b[0;34m\u001b[0m\u001b[0;34m\u001b[0m\u001b[0m\n\u001b[1;32m    424\u001b[0m             \u001b[0my\u001b[0m \u001b[0;34m=\u001b[0m \u001b[0mnp\u001b[0m\u001b[0;34m.\u001b[0m\u001b[0mdot\u001b[0m\u001b[0;34m(\u001b[0m\u001b[0mX\u001b[0m\u001b[0;34m,\u001b[0m \u001b[0mprec_chol\u001b[0m\u001b[0;34m)\u001b[0m \u001b[0;34m-\u001b[0m \u001b[0mnp\u001b[0m\u001b[0;34m.\u001b[0m\u001b[0mdot\u001b[0m\u001b[0;34m(\u001b[0m\u001b[0mmu\u001b[0m\u001b[0;34m,\u001b[0m \u001b[0mprec_chol\u001b[0m\u001b[0;34m)\u001b[0m\u001b[0;34m\u001b[0m\u001b[0;34m\u001b[0m\u001b[0m\n\u001b[0;32m--> 425\u001b[0;31m             \u001b[0mlog_prob\u001b[0m\u001b[0;34m[\u001b[0m\u001b[0;34m:\u001b[0m\u001b[0;34m,\u001b[0m \u001b[0mk\u001b[0m\u001b[0;34m]\u001b[0m \u001b[0;34m=\u001b[0m \u001b[0mnp\u001b[0m\u001b[0;34m.\u001b[0m\u001b[0msum\u001b[0m\u001b[0;34m(\u001b[0m\u001b[0mnp\u001b[0m\u001b[0;34m.\u001b[0m\u001b[0msquare\u001b[0m\u001b[0;34m(\u001b[0m\u001b[0my\u001b[0m\u001b[0;34m)\u001b[0m\u001b[0;34m,\u001b[0m \u001b[0maxis\u001b[0m\u001b[0;34m=\u001b[0m\u001b[0;36m1\u001b[0m\u001b[0;34m)\u001b[0m\u001b[0;34m\u001b[0m\u001b[0;34m\u001b[0m\u001b[0m\n\u001b[0m\u001b[1;32m    426\u001b[0m \u001b[0;34m\u001b[0m\u001b[0m\n\u001b[1;32m    427\u001b[0m     \u001b[0;32melif\u001b[0m \u001b[0mcovariance_type\u001b[0m \u001b[0;34m==\u001b[0m \u001b[0;34m\"tied\"\u001b[0m\u001b[0;34m:\u001b[0m\u001b[0;34m\u001b[0m\u001b[0;34m\u001b[0m\u001b[0m\n",
      "\u001b[0;31mKeyboardInterrupt\u001b[0m: "
     ]
    }
   ],
   "source": [
    "n_clusters = [2, 4, 8, 16, 32, 48, 64]\n",
    "score = []\n",
    "\n",
    "for k in n_clusters:\n",
    "    gmm = GaussianMixture(k)\n",
    "    y_pred = gmm.fit_predict(X)\n",
    "    score.append(calinski_harabasz_score(X, y_pred))\n",
    "    print(k, score[-1])"
   ]
  },
  {
   "cell_type": "code",
   "execution_count": 9,
   "id": "3a98954f",
   "metadata": {},
   "outputs": [],
   "source": [
    "pca = PCA()\n",
    "pca.fit_transform(X);"
   ]
  },
  {
   "cell_type": "code",
   "execution_count": 12,
   "id": "a01bac24",
   "metadata": {},
   "outputs": [
    {
     "data": {
      "text/plain": [
       "[<matplotlib.lines.Line2D at 0x284fdcbe0>]"
      ]
     },
     "execution_count": 12,
     "metadata": {},
     "output_type": "execute_result"
    },
    {
     "data": {
      "image/png": "[encoded data removed]",
      "text/plain": [
       "<Figure size 432x288 with 1 Axes>"
      ]
     },
     "metadata": {
      "needs_background": "light"
     },
     "output_type": "display_data"
    }
   ],
   "source": [
    "plt.plot(pca.explained_variance_ratio_)"
   ]
  },
  {
   "cell_type": "code",
   "execution_count": 58,
   "id": "0eba9551",
   "metadata": {},
   "outputs": [],
   "source": [
    "pca = PCA(32)\n",
    "X_trans = pca.fit_transform(X);"
   ]
  },
  {
   "cell_type": "code",
   "execution_count": 14,
   "id": "68db0968",
   "metadata": {},
   "outputs": [
    {
     "name": "stdout",
     "output_type": "stream",
     "text": [
      "2 23516.187156809403\n",
      "4 13184.379803284583\n",
      "8 8713.024996834318\n",
      "16 6298.197070555686\n",
      "32 4401.962572090256\n",
      "48 3578.901351359332\n",
      "64 2976.4235874930596\n"
     ]
    }
   ],
   "source": [
    "n_clusters = [2, 4, 8, 16, 32, 48, 64]\n",
    "score = []\n",
    "\n",
    "for k in n_clusters:\n",
    "    kmeans = KMeans(k)\n",
    "    y_pred = kmeans.fit_predict(X_trans)\n",
    "    score.append(calinski_harabasz_score(X_trans, y_pred))\n",
    "    print(k, score[-1])"
   ]
  },
  {
   "cell_type": "code",
   "execution_count": 69,
   "id": "5e864d76",
   "metadata": {},
   "outputs": [
    {
     "data": {
      "text/plain": [
       "KMeans(n_clusters=16)"
      ]
     },
     "execution_count": 69,
     "metadata": {},
     "output_type": "execute_result"
    }
   ],
   "source": [
    "kmeans = KMeans(16)\n",
    "kmeans.fit(X_trans)"
   ]
  },
  {
   "cell_type": "code",
   "execution_count": 61,
   "id": "018c9048",
   "metadata": {},
   "outputs": [
    {
     "data": {
      "text/plain": [
       "(100000, 1)"
      ]
     },
     "execution_count": 61,
     "metadata": {},
     "output_type": "execute_result"
    }
   ],
   "source": [
    "y_pred.shape"
   ]
  },
  {
   "cell_type": "code",
   "execution_count": 63,
   "id": "4d249a4a",
   "metadata": {},
   "outputs": [],
   "source": [
    "y_pred = kmeans.predict_proba(X_trans)"
   ]
  },
  {
   "cell_type": "code",
   "execution_count": 64,
   "id": "049c5a80",
   "metadata": {},
   "outputs": [
    {
     "data": {
      "text/plain": [
       "(100000, 16)"
      ]
     },
     "execution_count": 64,
     "metadata": {},
     "output_type": "execute_result"
    }
   ],
   "source": [
    "y_pred.shape"
   ]
  },
  {
   "cell_type": "code",
   "execution_count": 65,
   "id": "d88eb65b",
   "metadata": {},
   "outputs": [],
   "source": [
    "from sklearn.linear_model import LogisticRegression"
   ]
  },
  {
   "cell_type": "code",
   "execution_count": 66,
   "id": "de17f963",
   "metadata": {},
   "outputs": [
    {
     "data": {
      "text/plain": [
       "0.59101"
      ]
     },
     "execution_count": 66,
     "metadata": {},
     "output_type": "execute_result"
    }
   ],
   "source": [
    "lr = LogisticRegression()\n",
    "lr.fit(y_pred, y)\n",
    "lr.score(y_pred, y)"
   ]
  },
  {
   "cell_type": "code",
   "execution_count": null,
   "id": "9430ecd6",
   "metadata": {},
   "outputs": [],
   "source": [
    "from sklearn.tree import DecisionTreeClassifier"
   ]
  },
  {
   "cell_type": "code",
   "execution_count": 70,
   "id": "14bf4d3a",
   "metadata": {},
   "outputs": [],
   "source": [
    "y_pred = kmeans.predict(X_trans).reshape((-1, 1))"
   ]
  },
  {
   "cell_type": "code",
   "execution_count": 71,
   "id": "5770ec50",
   "metadata": {},
   "outputs": [
    {
     "data": {
      "text/plain": [
       "0.62841"
      ]
     },
     "execution_count": 71,
     "metadata": {},
     "output_type": "execute_result"
    }
   ],
   "source": [
    "lr = DecisionTreeClassifier()\n",
    "lr.fit(y_pred, y)\n",
    "lr.score(y_pred, y)"
   ]
  },
  {
   "cell_type": "code",
   "execution_count": null,
   "id": "d40712a6",
   "metadata": {},
   "outputs": [],
   "source": []
  },
  {
   "cell_type": "code",
   "execution_count": null,
   "id": "28f635c1",
   "metadata": {},
   "outputs": [],
   "source": []
  },
  {
   "cell_type": "code",
   "execution_count": 30,
   "id": "e03a29df",
   "metadata": {},
   "outputs": [
    {
     "data": {
      "text/plain": [
       "0.62648"
      ]
     },
     "execution_count": 30,
     "metadata": {},
     "output_type": "execute_result"
    }
   ],
   "source": [
    "acc = 0\n",
    "tot = 0\n",
    "for cluster_id in set(y_pred):\n",
    "    tot += sum(y_pred == cluster_id)\n",
    "    acc += np.eye(3)[y][y_pred == cluster_id].sum(axis=0).max()\n",
    "acc/tot"
   ]
  },
  {
   "cell_type": "code",
   "execution_count": null,
   "id": "06a2f7c7",
   "metadata": {},
   "outputs": [],
   "source": []
  },
  {
   "cell_type": "code",
   "execution_count": null,
   "id": "f0f58ed3",
   "metadata": {},
   "outputs": [],
   "source": []
  },
  {
   "cell_type": "code",
   "execution_count": null,
   "id": "b047aa03",
   "metadata": {},
   "outputs": [],
   "source": [
    "error = np.sum((preds - X_train)**2, axis=1)\n",
    "error.shape"
   ]
  },
  {
   "cell_type": "code",
   "execution_count": null,
   "id": "b3cfea29",
   "metadata": {},
   "outputs": [],
   "source": [
    "kmeans.cluster_centers_"
   ]
  },
  {
   "cell_type": "code",
   "execution_count": null,
   "id": "3dc1871c",
   "metadata": {},
   "outputs": [],
   "source": []
  },
  {
   "cell_type": "code",
   "execution_count": null,
   "id": "c87d4734",
   "metadata": {},
   "outputs": [],
   "source": []
  },
  {
   "cell_type": "code",
   "execution_count": null,
   "id": "3362c871",
   "metadata": {},
   "outputs": [],
   "source": []
  },
  {
   "cell_type": "code",
   "execution_count": null,
   "id": "85800726",
   "metadata": {},
   "outputs": [],
   "source": [
    "pca = PCA()\n",
    "X2 = pca.fit_transform(X_train)"
   ]
  },
  {
   "cell_type": "code",
   "execution_count": null,
   "id": "c433a163",
   "metadata": {},
   "outputs": [],
   "source": [
    "import matplotlib.pyplot as plt"
   ]
  },
  {
   "cell_type": "code",
   "execution_count": null,
   "id": "8377305c",
   "metadata": {},
   "outputs": [],
   "source": [
    "plt.scatter(X2[:,0], X2[:, 1], c=y_train)"
   ]
  },
  {
   "cell_type": "code",
   "execution_count": null,
   "id": "6453f3e4",
   "metadata": {},
   "outputs": [],
   "source": [
    "from sklearn.manifold import TSNE"
   ]
  },
  {
   "cell_type": "code",
   "execution_count": null,
   "id": "4af4d27e",
   "metadata": {},
   "outputs": [],
   "source": [
    "tsne = TSNE()\n",
    "X2 = tsne.fit_transform(X_train)"
   ]
  },
  {
   "cell_type": "code",
   "execution_count": null,
   "id": "3e753c14",
   "metadata": {},
   "outputs": [],
   "source": [
    "plt.scatter(X2[:,0], X2[:, 1], c=y_train)"
   ]
  },
  {
   "cell_type": "code",
   "execution_count": null,
   "id": "64a0308b",
   "metadata": {},
   "outputs": [],
   "source": []
  }
 ],
 "metadata": {
  "kernelspec": {
   "display_name": "Python 3 (ipykernel)",
   "language": "python",
   "name": "python3"
  },
  "language_info": {
   "codemirror_mode": {
    "name": "ipython",
    "version": 3
   },
   "file_extension": ".py",
   "mimetype": "text/x-python",
   "name": "python",
   "nbconvert_exporter": "python",
   "pygments_lexer": "ipython3",
   "version": "3.8.12"
  }
 },
 "nbformat": 4,
 "nbformat_minor": 5
}
