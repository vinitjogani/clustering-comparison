{
 "cells": [
  {
   "cell_type": "code",
   "execution_count": 3,
   "id": "80d72994",
   "metadata": {},
   "outputs": [],
   "source": [
    "import matplotlib.pyplot as plt\n",
    "import numpy as np\n",
    "import kneed\n",
    "import pickle\n",
    "import os\n",
    "\n",
    "from sklearn.cluster import KMeans\n",
    "from sklearn.mixture import GaussianMixture\n",
    "from sklearn.metrics import calinski_harabasz_score\n",
    "from sklearn.decomposition import PCA\n",
    "from sklearn.decomposition import PCA, FastICA\n",
    "\n",
    "from datasets import *"
   ]
  },
  {
   "cell_type": "code",
   "execution_count": 67,
   "id": "2079594d",
   "metadata": {},
   "outputs": [
    {
     "name": "stderr",
     "output_type": "stream",
     "text": [
      "/home/vinit/.local/lib/python3.9/site-packages/sklearn/preprocessing/_data.py:3218: RuntimeWarning: overflow encountered in power\n",
      "  out[pos] = (np.power(x[pos] + 1, lmbda) - 1) / lmbda\n",
      "/home/vinit/.local/lib/python3.9/site-packages/numpy/core/_methods.py:236: RuntimeWarning: overflow encountered in multiply\n",
      "  x = um.multiply(x, x, out=x)\n",
      "/home/vinit/.local/lib/python3.9/site-packages/numpy/core/_methods.py:247: RuntimeWarning: overflow encountered in reduce\n",
      "  ret = umr_sum(x, axis, dtype, out, keepdims=keepdims, where=where)\n"
     ]
    }
   ],
   "source": [
    "X, y = load_term_deposits()"
   ]
  },
  {
   "cell_type": "code",
   "execution_count": 68,
   "id": "7e59dd65",
   "metadata": {},
   "outputs": [],
   "source": [
    "from scipy.stats import kurtosis"
   ]
  },
  {
   "cell_type": "code",
   "execution_count": 70,
   "id": "14bcb01c",
   "metadata": {},
   "outputs": [],
   "source": [
    "k = kurtosis(X)"
   ]
  },
  {
   "cell_type": "code",
   "execution_count": 77,
   "id": "e317834c",
   "metadata": {},
   "outputs": [
    {
     "name": "stderr",
     "output_type": "stream",
     "text": [
      "/home/vinit/.local/lib/python3.9/site-packages/sklearn/decomposition/_fastica.py:519: UserWarning: n_components is too large: it will be set to 61\n",
      "  warnings.warn(\n",
      "/home/vinit/.local/lib/python3.9/site-packages/sklearn/decomposition/_fastica.py:116: ConvergenceWarning: FastICA did not converge. Consider increasing tolerance or the maximum number of iterations.\n",
      "  warnings.warn(\n"
     ]
    }
   ],
   "source": [
    "out = []\n",
    "for n_components in [63]:\n",
    "    ica = FastICA(n_components)\n",
    "    X_trans = ica.fit_transform(X)\n",
    "    out.append(X_trans)"
   ]
  },
  {
   "cell_type": "code",
   "execution_count": 78,
   "id": "adc8584c",
   "metadata": {},
   "outputs": [
    {
     "name": "stdout",
     "output_type": "stream",
     "text": [
      "47.89944307018515\n"
     ]
    }
   ],
   "source": [
    "for i in out:\n",
    "    print(np.abs(kurtosis(i)).mean())"
   ]
  },
  {
   "cell_type": "code",
   "execution_count": 114,
   "id": "ef1788fb",
   "metadata": {},
   "outputs": [],
   "source": [
    "kmeans = KMeans()"
   ]
  },
  {
   "cell_type": "code",
   "execution_count": 116,
   "id": "e225e483",
   "metadata": {},
   "outputs": [
    {
     "data": {
      "text/plain": [
       "KMeans(n_clusters=5)"
      ]
     },
     "execution_count": 116,
     "metadata": {},
     "output_type": "execute_result"
    }
   ],
   "source": [
    "kmeans.set_params(n_clusters=5)"
   ]
  },
  {
   "cell_type": "code",
   "execution_count": 118,
   "id": "627a2bff",
   "metadata": {},
   "outputs": [
    {
     "data": {
      "text/plain": [
       "4"
      ]
     },
     "execution_count": 118,
     "metadata": {},
     "output_type": "execute_result"
    }
   ],
   "source": [
    "kmeans.fit_predict(X).max()"
   ]
  },
  {
   "cell_type": "code",
   "execution_count": null,
   "id": "2d68f40c",
   "metadata": {},
   "outputs": [],
   "source": []
  },
  {
   "cell_type": "code",
   "execution_count": null,
   "id": "943dd179",
   "metadata": {},
   "outputs": [],
   "source": []
  },
  {
   "cell_type": "code",
   "execution_count": 254,
   "id": "18b0f22e",
   "metadata": {},
   "outputs": [
    {
     "name": "stderr",
     "output_type": "stream",
     "text": [
      "/tmp/ipykernel_22146/1303140048.py:1: DtypeWarning: Columns (26) have mixed types. Specify dtype option on import or set low_memory=False.\n",
      "  cs = pd.read_csv('credit_score.csv')\n"
     ]
    }
   ],
   "source": [
    "cs = pd.read_csv('credit_score.csv')\n",
    "cs.set_index('Customer_ID', inplace=True)"
   ]
  },
  {
   "cell_type": "code",
   "execution_count": 255,
   "id": "15f45e81",
   "metadata": {},
   "outputs": [],
   "source": [
    "first_id = cs[cs.Credit_Score == 'Poor'].groupby(level=0).agg({'ID': 'min'})\n",
    "first_id.rename(columns={'ID': 'first_id'}, inplace=True)\n",
    "last_id = cs[cs.Credit_Score != 'Poor'].groupby(level=0).agg({'ID': 'min'})\n",
    "last_id.rename(columns={'ID': 'last_id'}, inplace=True)"
   ]
  },
  {
   "cell_type": "code",
   "execution_count": 256,
   "id": "9107550c",
   "metadata": {},
   "outputs": [],
   "source": [
    "cs = cs.join(first_id, how='left').join(last_id, how='left')"
   ]
  },
  {
   "cell_type": "code",
   "execution_count": 258,
   "id": "0aaf1c4e",
   "metadata": {},
   "outputs": [],
   "source": [
    "z = cs.last_id < cs.first_id"
   ]
  },
  {
   "cell_type": "code",
   "execution_count": null,
   "id": "24d28f55",
   "metadata": {},
   "outputs": [],
   "source": []
  },
  {
   "cell_type": "code",
   "execution_count": 245,
   "id": "06a889a3",
   "metadata": {},
   "outputs": [
    {
     "data": {
      "text/html": [
       "<div>\n",
       "<style scoped>\n",
       "    .dataframe tbody tr th:only-of-type {\n",
       "        vertical-align: middle;\n",
       "    }\n",
       "\n",
       "    .dataframe tbody tr th {\n",
       "        vertical-align: top;\n",
       "    }\n",
       "\n",
       "    .dataframe thead th {\n",
       "        text-align: right;\n",
       "    }\n",
       "</style>\n",
       "<table border=\"1\" class=\"dataframe\">\n",
       "  <thead>\n",
       "    <tr style=\"text-align: right;\">\n",
       "      <th></th>\n",
       "      <th>first_id</th>\n",
       "      <th>last_id</th>\n",
       "    </tr>\n",
       "    <tr>\n",
       "      <th>Customer_ID</th>\n",
       "      <th></th>\n",
       "      <th></th>\n",
       "    </tr>\n",
       "  </thead>\n",
       "  <tbody>\n",
       "  </tbody>\n",
       "</table>\n",
       "</div>"
      ],
      "text/plain": [
       "Empty DataFrame\n",
       "Columns: [first_id, last_id]\n",
       "Index: []"
      ]
     },
     "execution_count": 245,
     "metadata": {},
     "output_type": "execute_result"
    }
   ],
   "source": [
    "cs[['first_id', 'last_id']].dropna()"
   ]
  },
  {
   "cell_type": "code",
   "execution_count": 246,
   "id": "eb225c78",
   "metadata": {},
   "outputs": [
    {
     "data": {
      "text/plain": [
       "Index(['CUS_0x1000', 'CUS_0x100b', 'CUS_0x1018', 'CUS_0x102e', 'CUS_0x103e',\n",
       "       'CUS_0x1048', 'CUS_0x1056', 'CUS_0x1075', 'CUS_0x107c', 'CUS_0x1096',\n",
       "       ...\n",
       "       'CUS_0xf7d', 'CUS_0xf8f', 'CUS_0xf91', 'CUS_0xf95', 'CUS_0xf9f',\n",
       "       'CUS_0xfa4', 'CUS_0xfae', 'CUS_0xfbd', 'CUS_0xfc9', 'CUS_0xffc'],\n",
       "      dtype='object', name='Customer_ID', length=5203)"
      ]
     },
     "execution_count": 246,
     "metadata": {},
     "output_type": "execute_result"
    }
   ],
   "source": [
    "first_id.index"
   ]
  },
  {
   "cell_type": "code",
   "execution_count": 251,
   "id": "c513b45d",
   "metadata": {},
   "outputs": [
    {
     "data": {
      "text/html": [
       "<div>\n",
       "<style scoped>\n",
       "    .dataframe tbody tr th:only-of-type {\n",
       "        vertical-align: middle;\n",
       "    }\n",
       "\n",
       "    .dataframe tbody tr th {\n",
       "        vertical-align: top;\n",
       "    }\n",
       "\n",
       "    .dataframe thead th {\n",
       "        text-align: right;\n",
       "    }\n",
       "</style>\n",
       "<table border=\"1\" class=\"dataframe\">\n",
       "  <thead>\n",
       "    <tr style=\"text-align: right;\">\n",
       "      <th></th>\n",
       "      <th>first_id</th>\n",
       "    </tr>\n",
       "    <tr>\n",
       "      <th>Customer_ID</th>\n",
       "      <th></th>\n",
       "    </tr>\n",
       "  </thead>\n",
       "  <tbody>\n",
       "    <tr>\n",
       "      <th>CUS_0x1000</th>\n",
       "      <td>NaN</td>\n",
       "    </tr>\n",
       "    <tr>\n",
       "      <th>CUS_0x1000</th>\n",
       "      <td>NaN</td>\n",
       "    </tr>\n",
       "    <tr>\n",
       "      <th>CUS_0x1000</th>\n",
       "      <td>NaN</td>\n",
       "    </tr>\n",
       "    <tr>\n",
       "      <th>CUS_0x1000</th>\n",
       "      <td>NaN</td>\n",
       "    </tr>\n",
       "    <tr>\n",
       "      <th>CUS_0x1000</th>\n",
       "      <td>NaN</td>\n",
       "    </tr>\n",
       "    <tr>\n",
       "      <th>...</th>\n",
       "      <td>...</td>\n",
       "    </tr>\n",
       "    <tr>\n",
       "      <th>CUS_0xffc</th>\n",
       "      <td>NaN</td>\n",
       "    </tr>\n",
       "    <tr>\n",
       "      <th>CUS_0xffc</th>\n",
       "      <td>NaN</td>\n",
       "    </tr>\n",
       "    <tr>\n",
       "      <th>CUS_0xffc</th>\n",
       "      <td>NaN</td>\n",
       "    </tr>\n",
       "    <tr>\n",
       "      <th>CUS_0xffc</th>\n",
       "      <td>NaN</td>\n",
       "    </tr>\n",
       "    <tr>\n",
       "      <th>CUS_0xffc</th>\n",
       "      <td>NaN</td>\n",
       "    </tr>\n",
       "  </tbody>\n",
       "</table>\n",
       "<p>41624 rows × 1 columns</p>\n",
       "</div>"
      ],
      "text/plain": [
       "             first_id\n",
       "Customer_ID          \n",
       "CUS_0x1000        NaN\n",
       "CUS_0x1000        NaN\n",
       "CUS_0x1000        NaN\n",
       "CUS_0x1000        NaN\n",
       "CUS_0x1000        NaN\n",
       "...               ...\n",
       "CUS_0xffc         NaN\n",
       "CUS_0xffc         NaN\n",
       "CUS_0xffc         NaN\n",
       "CUS_0xffc         NaN\n",
       "CUS_0xffc         NaN\n",
       "\n",
       "[41624 rows x 1 columns]"
      ]
     },
     "execution_count": 251,
     "metadata": {},
     "output_type": "execute_result"
    }
   ],
   "source": [
    "cs.loc[first_id.index][['first_id']]"
   ]
  },
  {
   "cell_type": "code",
   "execution_count": null,
   "id": "e5d2cea6",
   "metadata": {},
   "outputs": [],
   "source": []
  },
  {
   "cell_type": "code",
   "execution_count": null,
   "id": "80780ef4",
   "metadata": {},
   "outputs": [],
   "source": []
  },
  {
   "cell_type": "code",
   "execution_count": 4,
   "id": "1ab5413e",
   "metadata": {},
   "outputs": [],
   "source": [
    "def load_scores(key):\n",
    "    data = pickle.load(open(f\"readings/{key}.pkl\", \"rb\"))\n",
    "    data.sort()\n",
    "    out = tuple(zip(*data))\n",
    "    return out[0], np.array(out[1:])"
   ]
  },
  {
   "cell_type": "code",
   "execution_count": 53,
   "id": "d99476d1",
   "metadata": {},
   "outputs": [],
   "source": [
    "def load_iter_scores(key):\n",
    "    data = pickle.load(open(f\"readings/{key}.pkl\", \"rb\"))\n",
    "    return (\n",
    "        np.array(list(range(len(data['train_loss'])))) * 3+2,\n",
    "        np.array(data['train_loss']),\n",
    "        np.array(data['test_loss']),\n",
    "    )\n",
    "\n",
    "def load_trainsize_scores(key):\n",
    "    data = pickle.load(open(f\"readings/{key}.pkl\", \"rb\"))\n",
    "    return (\n",
    "        np.array([0.2, 0.4, 0.6, 0.8, 0.99]),\n",
    "        np.array(data['train_aucs']),\n",
    "        np.array(data['test_aucs']),\n",
    "        np.array(data['timings']),\n",
    "    )"
   ]
  },
  {
   "cell_type": "code",
   "execution_count": 54,
   "id": "ff9fd757",
   "metadata": {},
   "outputs": [
    {
     "data": {
      "text/plain": [
       "<matplotlib.legend.Legend at 0x7fd638706850>"
      ]
     },
     "execution_count": 54,
     "metadata": {},
     "output_type": "execute_result"
    },
    {
     "data": {
      "image/png": "[encoded data removed]",
      "text/plain": [
       "<Figure size 640x480 with 1 Axes>"
      ]
     },
     "metadata": {},
     "output_type": "display_data"
    }
   ],
   "source": [
    "dataset = 'credit_score'\n",
    "\n",
    "algo = 'pca'\n",
    "\n",
    "x, y = load_scores(f'kmeans_{algo}_' + dataset)\n",
    "plt.plot(x, y[1], label='Kmeans RFCA')\n",
    "\n",
    "x, y = load_scores(f'kmeans_' + dataset)\n",
    "plt.plot(x, y[1], label='Kmeans')\n",
    "\n",
    "x, y = load_scores(f'gmm_{algo}_' + dataset)\n",
    "plt.plot(x, y[1], label='GMM RFCA')\n",
    "\n",
    "x, y = load_scores(f'gmm_' + dataset)\n",
    "plt.plot(x, y[1], label='GMM')\n",
    "\n",
    "x, y = load_scores(f'{algo}_' + dataset)\n",
    "plt.plot(x, y[2], label='RFCA')\n",
    "\n",
    "plt.legend()"
   ]
  },
  {
   "cell_type": "code",
   "execution_count": 55,
   "id": "e0b300b9",
   "metadata": {},
   "outputs": [
    {
     "data": {
      "text/plain": [
       "<matplotlib.legend.Legend at 0x7fd638305760>"
      ]
     },
     "execution_count": 55,
     "metadata": {},
     "output_type": "execute_result"
    },
    {
     "data": {
      "image/png": "[encoded data removed]",
      "text/plain": [
       "<Figure size 640x480 with 1 Axes>"
      ]
     },
     "metadata": {},
     "output_type": "display_data"
    }
   ],
   "source": [
    "\n",
    "x, y1, y2 = load_iter_scores(f'iter_pca')\n",
    "plt.plot(x, y1, label='PCA: Train')\n",
    "plt.plot(x, y2, label='PCA: Test')\n",
    "\n",
    "# x, y1, y2 = load_iter_scores(f'iter_ica')\n",
    "# plt.plot(x, y1, label='ICA: Train')\n",
    "# plt.plot(x, y2, label='ICA: Test')\n",
    "\n",
    "# x, y1, y2 = load_iter_scores(f'iter_gmm_add_soft')\n",
    "# plt.plot(x, y1, label='GMM Replace Soft: Train')\n",
    "# plt.plot(x, y2, label='GMM Replace Soft: Test')\n",
    "plt.legend()"
   ]
  },
  {
   "cell_type": "code",
   "execution_count": 35,
   "id": "f4c189a5",
   "metadata": {},
   "outputs": [
    {
     "data": {
      "text/plain": [
       "<matplotlib.legend.Legend at 0x7fd63882e4f0>"
      ]
     },
     "execution_count": 35,
     "metadata": {},
     "output_type": "execute_result"
    },
    {
     "data": {
      "image/png": "[encoded data removed]",
      "text/plain": [
       "<Figure size 640x480 with 1 Axes>"
      ]
     },
     "metadata": {},
     "output_type": "display_data"
    }
   ],
   "source": [
    "dataset = 'term_deposits'\n",
    "\n",
    "algo = 'ica'\n",
    "\n",
    "x, y1, y2, y3 = load_trainsize_scores(f'trainsize_rca_credit_score')\n",
    "plt.plot(x, y1, label='GMM Add Hard: Train')\n",
    "plt.plot(x, y2, label='GMM Add Hard: Test')\n",
    "\n",
    "\n",
    "# x, y1, y2 = load_iter_scores(f'iter_gmm_replace_hard')\n",
    "# plt.plot(x, y1, label='GMM Replace Hard: Train')\n",
    "# plt.plot(x, y2, label='GMM Replace Hard: Test')\n",
    "\n",
    "# x, y1, y2 = load_iter_scores(f'iter_gmm_replace_soft')\n",
    "# plt.plot(x, y1, label='GMM Replace Soft: Train')\n",
    "# plt.plot(x, y2, label='GMM Replace Soft: Test')\n",
    "\n",
    "# x, y1, y2 = load_iter_scores(f'iter_gmm_add_soft')\n",
    "# plt.plot(x, y1, label='GMM Replace Soft: Train')\n",
    "# plt.plot(x, y2, label='GMM Replace Soft: Test')\n",
    "\n",
    "plt.legend()"
   ]
  },
  {
   "cell_type": "code",
   "execution_count": 36,
   "id": "e86e0462",
   "metadata": {},
   "outputs": [],
   "source": [
    "from sklearn.neural_network import MLPClassifier\n",
    "from sklearn.decomposition import FastICA, PCA\n",
    "from evaluate import pr_auc_score"
   ]
  },
  {
   "cell_type": "code",
   "execution_count": 37,
   "id": "38c37af4",
   "metadata": {},
   "outputs": [
    {
     "name": "stderr",
     "output_type": "stream",
     "text": [
      "/home/vinit/.local/lib/python3.9/site-packages/sklearn/preprocessing/_data.py:3253: RuntimeWarning: divide by zero encountered in log\n",
      "  loglike = -n_samples / 2 * np.log(x_trans.var())\n"
     ]
    }
   ],
   "source": [
    "X, y = load_credit_score()"
   ]
  },
  {
   "cell_type": "code",
   "execution_count": 319,
   "id": "a2e14eaa",
   "metadata": {},
   "outputs": [],
   "source": [
    "from sklearn.model_selection import train_test_split\n",
    "\n",
    "X_train, X_test, y_train, y_test = train_test_split(X, y, test_size=0.2)"
   ]
  },
  {
   "cell_type": "code",
   "execution_count": 320,
   "id": "26bd94cd",
   "metadata": {},
   "outputs": [],
   "source": [
    "hidden_unit_sizes = [\n",
    "    (512, 256, 128),\n",
    "    (512, 128, 128),\n",
    "    (256, 128, 64),\n",
    "    (512, 256),\n",
    "    (256, 128),\n",
    "    (128, 64),\n",
    "    (128,),\n",
    "    (64,),\n",
    "]"
   ]
  },
  {
   "cell_type": "code",
   "execution_count": 321,
   "id": "a764cb48",
   "metadata": {},
   "outputs": [
    {
     "name": "stdout",
     "output_type": "stream",
     "text": [
      "(512, 256, 128) 0.7213851025790791\n",
      "(512, 128, 128) 0.7189449222071816\n",
      "(256, 128, 64) 0.7128430331645216\n"
     ]
    },
    {
     "name": "stderr",
     "output_type": "stream",
     "text": [
      "/home/vinit/.local/lib/python3.9/site-packages/sklearn/neural_network/_multilayer_perceptron.py:699: UserWarning: Training interrupted by user.\n",
      "  warnings.warn(\"Training interrupted by user.\")\n"
     ]
    },
    {
     "name": "stdout",
     "output_type": "stream",
     "text": [
      "(512, 256) 0.71726238043235\n"
     ]
    },
    {
     "name": "stderr",
     "output_type": "stream",
     "text": [
      "/home/vinit/.local/lib/python3.9/site-packages/sklearn/neural_network/_multilayer_perceptron.py:699: UserWarning: Training interrupted by user.\n",
      "  warnings.warn(\"Training interrupted by user.\")\n"
     ]
    },
    {
     "name": "stdout",
     "output_type": "stream",
     "text": [
      "(256, 128) 0.7076214036941738\n"
     ]
    },
    {
     "name": "stderr",
     "output_type": "stream",
     "text": [
      "/home/vinit/.local/lib/python3.9/site-packages/sklearn/neural_network/_multilayer_perceptron.py:699: UserWarning: Training interrupted by user.\n",
      "  warnings.warn(\"Training interrupted by user.\")\n"
     ]
    },
    {
     "name": "stdout",
     "output_type": "stream",
     "text": [
      "(128, 64) 0.7043833128516345\n"
     ]
    },
    {
     "name": "stderr",
     "output_type": "stream",
     "text": [
      "/home/vinit/.local/lib/python3.9/site-packages/sklearn/neural_network/_multilayer_perceptron.py:699: UserWarning: Training interrupted by user.\n",
      "  warnings.warn(\"Training interrupted by user.\")\n"
     ]
    },
    {
     "name": "stdout",
     "output_type": "stream",
     "text": [
      "(128,) 0.6997949495923607\n",
      "(64,) 0.7013100544540035\n"
     ]
    },
    {
     "name": "stderr",
     "output_type": "stream",
     "text": [
      "/home/vinit/.local/lib/python3.9/site-packages/sklearn/neural_network/_multilayer_perceptron.py:699: UserWarning: Training interrupted by user.\n",
      "  warnings.warn(\"Training interrupted by user.\")\n"
     ]
    }
   ],
   "source": [
    "for s in hidden_unit_sizes:\n",
    "    mlp = MLPClassifier(\n",
    "        hidden_layer_sizes=s,\n",
    "        activation=\"relu\",\n",
    "        early_stopping=True,\n",
    "        batch_size=128,\n",
    "    )\n",
    "    mlp.fit(X_train, y_train)\n",
    "    y_pred = mlp.predict_proba(X_test)\n",
    "    auc = pr_auc_score(y_test, y_pred)\n",
    "    print(s, auc)"
   ]
  },
  {
   "cell_type": "code",
   "execution_count": 336,
   "id": "ede05469",
   "metadata": {},
   "outputs": [
    {
     "data": {
      "text/plain": [
       "SparseRandomProjection(n_components=40)"
      ]
     },
     "execution_count": 336,
     "metadata": {},
     "output_type": "execute_result"
    }
   ],
   "source": [
    "from sklearn.random_projection import SparseRandomProjection\n",
    "\n",
    "pca = SparseRandomProjection(40)\n",
    "pca.fit(X_train, y_train)"
   ]
  },
  {
   "cell_type": "code",
   "execution_count": 337,
   "id": "6d7ead28",
   "metadata": {},
   "outputs": [
    {
     "name": "stdout",
     "output_type": "stream",
     "text": [
      "(512, 256, 128) 0.7049321805011689\n",
      "(512, 128, 128) 0.7036955597594027\n",
      "(256, 128, 64) 0.7138754863443365\n",
      "(512, 256) 0.7114854830430505\n",
      "(256, 128) 0.7080812713557064\n",
      "(128, 64) 0.7058844287914244\n",
      "(128,) 0.7018309014554068\n",
      "(64,) 0.699338935757384\n"
     ]
    }
   ],
   "source": [
    "for s in hidden_unit_sizes:\n",
    "    mlp = MLPClassifier(\n",
    "        hidden_layer_sizes=s,\n",
    "        activation=\"relu\",\n",
    "        batch_size=128,\n",
    "        early_stopping=True,\n",
    "        max_iter=100,\n",
    "    )\n",
    "    mlp.fit(pca.transform(X_train), y_train)\n",
    "    y_pred = mlp.predict_proba(pca.transform(X_test))\n",
    "    auc = pr_auc_score(y_test, y_pred)\n",
    "    print(s, auc)"
   ]
  },
  {
   "cell_type": "code",
   "execution_count": 342,
   "id": "f7a4d9af",
   "metadata": {},
   "outputs": [
    {
     "name": "stdout",
     "output_type": "stream",
     "text": [
      "(512, 256, 128) 0.6183992229223131\n",
      "(512, 128, 128) 0.6186055427037577\n",
      "(256, 128, 64) 0.616505644677088\n",
      "(512, 256) 0.6181011454255961\n",
      "(256, 128) 0.6196970790447872\n",
      "(128, 64) 0.6189910502782903\n",
      "(128,) 0.569310552872905\n",
      "(64,) 0.5680101211962788\n"
     ]
    }
   ],
   "source": [
    "from sklearn.random_projection import SparseRandomProjection\n",
    "\n",
    "pca = FastICA(5)\n",
    "pca.fit(X_train, y_train)\n",
    "Xt1 = pca.transform(X_train)\n",
    "Xt2 = pca.transform(X_test)\n",
    "for s in hidden_unit_sizes:\n",
    "    mlp = MLPClassifier(\n",
    "        hidden_layer_sizes=s,\n",
    "        activation=\"relu\",\n",
    "        batch_size=128,\n",
    "        early_stopping=True,\n",
    "        max_iter=100,\n",
    "    )\n",
    "    mlp.fit(Xt1, y_train)\n",
    "    y_pred = mlp.predict_proba(Xt2)\n",
    "    auc = pr_auc_score(y_test, y_pred)\n",
    "    print(s, auc)"
   ]
  },
  {
   "cell_type": "code",
   "execution_count": 341,
   "id": "2b40aea3",
   "metadata": {},
   "outputs": [
    {
     "name": "stdout",
     "output_type": "stream",
     "text": [
      "(512, 256, 128) 0.7151615052748244\n",
      "(512, 128, 128) 0.7068118840897929\n",
      "(256, 128, 64) 0.7110959973315613\n",
      "(512, 256) 0.700087102276108\n",
      "(256, 128) 0.7122392615188738\n",
      "(128, 64) 0.7110023090497911\n",
      "(128,) 0.7034372699823735\n",
      "(64,) 0.703009033172259\n"
     ]
    }
   ],
   "source": [
    "from decomposition import RFCA\n",
    "\n",
    "pca = RFCA()\n",
    "pca.fit(X_train, y_train)\n",
    "Xt1 = pca.transform(X_train, 30)\n",
    "Xt2 = pca.transform(X_test, 30)\n",
    "\n",
    "for s in hidden_unit_sizes:\n",
    "    mlp = MLPClassifier(\n",
    "        hidden_layer_sizes=s,\n",
    "        activation=\"relu\",\n",
    "        batch_size=128,\n",
    "        early_stopping=True,\n",
    "        max_iter=100,\n",
    "    )\n",
    "    mlp.fit(Xt1, y_train)\n",
    "    y_pred = mlp.predict_proba(Xt2)\n",
    "    auc = pr_auc_score(y_test, y_pred)\n",
    "    print(s, auc)"
   ]
  },
  {
   "cell_type": "code",
   "execution_count": 344,
   "id": "7d422aa9",
   "metadata": {},
   "outputs": [
    {
     "data": {
      "text/plain": [
       "(100000, 3)"
      ]
     },
     "execution_count": 344,
     "metadata": {},
     "output_type": "execute_result"
    }
   ],
   "source": [
    "kmeans = KMeans(3)\n",
    "kmeans.fit_transform(X)"
   ]
  },
  {
   "cell_type": "code",
   "execution_count": 345,
   "id": "75921e46",
   "metadata": {},
   "outputs": [
    {
     "data": {
      "text/plain": [
       "(100000, 56)"
      ]
     },
     "execution_count": 345,
     "metadata": {},
     "output_type": "execute_result"
    }
   ],
   "source": [
    "X.shape"
   ]
  },
  {
   "cell_type": "code",
   "execution_count": 348,
   "id": "bf74a0f8",
   "metadata": {},
   "outputs": [],
   "source": [
    "preds = kmeans.predict(X)"
   ]
  },
  {
   "cell_type": "code",
   "execution_count": 349,
   "id": "b6170d75",
   "metadata": {},
   "outputs": [],
   "source": [
    "preds = np.eye(3)[preds]"
   ]
  },
  {
   "cell_type": "code",
   "execution_count": 352,
   "id": "1207ca2a",
   "metadata": {},
   "outputs": [
    {
     "data": {
      "text/plain": [
       "(100000, 59)"
      ]
     },
     "execution_count": 352,
     "metadata": {},
     "output_type": "execute_result"
    }
   ],
   "source": [
    "np.hstack([X, preds]).shape"
   ]
  },
  {
   "cell_type": "code",
   "execution_count": 354,
   "id": "d8441865",
   "metadata": {},
   "outputs": [
    {
     "ename": "AttributeError",
     "evalue": "'KMeans' object has no attribute 'copy'",
     "output_type": "error",
     "traceback": [
      "\u001b[0;31m---------------------------------------------------------------------------\u001b[0m",
      "\u001b[0;31mAttributeError\u001b[0m                            Traceback (most recent call last)",
      "Cell \u001b[0;32mIn [354], line 1\u001b[0m\n\u001b[0;32m----> 1\u001b[0m kmeans\u001b[38;5;241m.\u001b[39mcopy()\n",
      "\u001b[0;31mAttributeError\u001b[0m: 'KMeans' object has no attribute 'copy'"
     ]
    }
   ],
   "source": [
    "kmeans.copy()"
   ]
  },
  {
   "cell_type": "code",
   "execution_count": 327,
   "id": "d0eac350",
   "metadata": {},
   "outputs": [],
   "source": [
    "from sklearn.metrics import log_loss"
   ]
  },
  {
   "cell_type": "code",
   "execution_count": 328,
   "id": "409cc56f",
   "metadata": {},
   "outputs": [
    {
     "data": {
      "text/plain": [
       "0.6916382339430321"
      ]
     },
     "execution_count": 328,
     "metadata": {},
     "output_type": "execute_result"
    }
   ],
   "source": [
    "log_loss(y_test, y_pred)"
   ]
  },
  {
   "cell_type": "code",
   "execution_count": null,
   "id": "389f3f92",
   "metadata": {},
   "outputs": [],
   "source": []
  },
  {
   "cell_type": "code",
   "execution_count": null,
   "id": "c1936cac",
   "metadata": {},
   "outputs": [],
   "source": []
  },
  {
   "cell_type": "code",
   "execution_count": 300,
   "id": "d3313236",
   "metadata": {},
   "outputs": [],
   "source": [
    "ica = PCA(2)\n",
    "X_ = ica.fit_transform(X)"
   ]
  },
  {
   "cell_type": "code",
   "execution_count": 302,
   "id": "327fbb8c",
   "metadata": {},
   "outputs": [],
   "source": [
    "kmeans = KMeans(10)\n",
    "pred = kmeans.fit_predict(X)"
   ]
  },
  {
   "cell_type": "code",
   "execution_count": null,
   "id": "13c1715e",
   "metadata": {},
   "outputs": [],
   "source": []
  },
  {
   "cell_type": "code",
   "execution_count": 310,
   "id": "0102178b",
   "metadata": {},
   "outputs": [
    {
     "name": "stderr",
     "output_type": "stream",
     "text": [
      "No artists with labels found to put in legend.  Note that artists whose label start with an underscore are ignored when legend() is called with no argument.\n"
     ]
    },
    {
     "data": {
      "text/plain": [
       "<matplotlib.legend.Legend at 0x7f346b94deb0>"
      ]
     },
     "execution_count": 310,
     "metadata": {},
     "output_type": "execute_result"
    },
    {
     "data": {
      "image/png": "[encoded data removed]",
      "text/plain": [
       "<Figure size 640x480 with 1 Axes>"
      ]
     },
     "metadata": {},
     "output_type": "display_data"
    }
   ],
   "source": [
    "plt.scatter(pred * 100, X_[:, 0], c=y)\n",
    "plt.legend()"
   ]
  },
  {
   "cell_type": "code",
   "execution_count": 307,
   "id": "ab70d81a",
   "metadata": {},
   "outputs": [
    {
     "data": {
      "text/plain": [
       "<matplotlib.collections.PathCollection at 0x7f346ba08730>"
      ]
     },
     "execution_count": 307,
     "metadata": {},
     "output_type": "execute_result"
    },
    {
     "data": {
      "image/png": "[encoded data removed]",
      "text/plain": [
       "<Figure size 640x480 with 1 Axes>"
      ]
     },
     "metadata": {},
     "output_type": "display_data"
    }
   ],
   "source": [
    "plt.scatter(pred * 100, X_[:, 0], c=y)"
   ]
  },
  {
   "cell_type": "code",
   "execution_count": 297,
   "id": "e5a44426",
   "metadata": {},
   "outputs": [],
   "source": [
    "cs['cluster']= pred"
   ]
  },
  {
   "cell_type": "code",
   "execution_count": 298,
   "id": "056c2244",
   "metadata": {},
   "outputs": [],
   "source": [
    "out = cs.groupby(level=0).agg({'cluster': ['nunique', 'count']})"
   ]
  },
  {
   "cell_type": "code",
   "execution_count": 299,
   "id": "014ec3e6",
   "metadata": {},
   "outputs": [
    {
     "data": {
      "text/plain": [
       "0.25861"
      ]
     },
     "execution_count": 299,
     "metadata": {},
     "output_type": "execute_result"
    }
   ],
   "source": [
    "(out[('cluster', 'nunique')]/out[('cluster', 'count')]).mean()"
   ]
  },
  {
   "cell_type": "code",
   "execution_count": null,
   "id": "2f6fb273",
   "metadata": {},
   "outputs": [],
   "source": [
    "(out[('cluster', 'nunique')]/out[('cluster', 'count')]).mean()"
   ]
  },
  {
   "cell_type": "code",
   "execution_count": 270,
   "id": "5fdb5f0b",
   "metadata": {},
   "outputs": [],
   "source": [
    "X_train_trans = ica.transform(X_train)\n",
    "X_test_trans = ica.transform(X_test)"
   ]
  },
  {
   "cell_type": "code",
   "execution_count": 279,
   "id": "a2974c3c",
   "metadata": {},
   "outputs": [
    {
     "data": {
      "text/plain": [
       "0.7002242296698141"
      ]
     },
     "execution_count": 279,
     "metadata": {},
     "output_type": "execute_result"
    }
   ],
   "source": [
    "mlp = MLPClassifier((256,128), 'relu', early_stopping=True, alpha=0.0001, random_state=0)\n",
    "mlp.fit(X_train_trans, y_train)\n",
    "y_pred = mlp.predict_proba(X_test_trans)\n",
    "pr_auc_score(y_test, y_pred)"
   ]
  },
  {
   "cell_type": "code",
   "execution_count": 281,
   "id": "6112310a",
   "metadata": {},
   "outputs": [
    {
     "data": {
      "text/plain": [
       "(0.7718340699231082, 0.2936035002333917)"
      ]
     },
     "execution_count": 281,
     "metadata": {},
     "output_type": "execute_result"
    }
   ],
   "source": [
    "y_pred = mlp.predict_proba(ica.transform(X))\n",
    "pr_auc_score(y, y_pred), y_pred[z][:, 0].mean()"
   ]
  },
  {
   "cell_type": "code",
   "execution_count": 272,
   "id": "a8cfa8e6",
   "metadata": {},
   "outputs": [
    {
     "data": {
      "text/plain": [
       "0.7905586919104804"
      ]
     },
     "execution_count": 272,
     "metadata": {},
     "output_type": "execute_result"
    }
   ],
   "source": [
    "y_pred = mlp.predict_proba(X_train_trans)\n",
    "pr_auc_score(y_train, y_pred)"
   ]
  },
  {
   "cell_type": "code",
   "execution_count": 273,
   "id": "a3b7d21d",
   "metadata": {},
   "outputs": [
    {
     "data": {
      "text/plain": [
       "0.7057080723054941"
      ]
     },
     "execution_count": 273,
     "metadata": {},
     "output_type": "execute_result"
    }
   ],
   "source": [
    "mlp = MLPClassifier((256,128), 'relu', early_stopping=True, alpha=0.0001, random_state=0)\n",
    "mlp.fit(X_train, y_train)\n",
    "y_pred = mlp.predict_proba(X_test)\n",
    "pr_auc_score(y_test, y_pred)"
   ]
  },
  {
   "cell_type": "code",
   "execution_count": 278,
   "id": "ab2562c7",
   "metadata": {},
   "outputs": [
    {
     "data": {
      "text/plain": [
       "(0.7575744173537672, 0.28612772722219415)"
      ]
     },
     "execution_count": 278,
     "metadata": {},
     "output_type": "execute_result"
    }
   ],
   "source": [
    "y_pred = mlp.predict_proba(X)\n",
    "pr_auc_score(y, y_pred), y_pred[z][:, 0].mean()"
   ]
  },
  {
   "cell_type": "code",
   "execution_count": null,
   "id": "726210ed",
   "metadata": {},
   "outputs": [],
   "source": []
  },
  {
   "cell_type": "code",
   "execution_count": 266,
   "id": "06ed3e3b",
   "metadata": {},
   "outputs": [
    {
     "data": {
      "text/plain": [
       "((100000,), (41188, 2))"
      ]
     },
     "execution_count": 266,
     "metadata": {},
     "output_type": "execute_result"
    }
   ],
   "source": [
    "z.shape, y_pred.shape"
   ]
  },
  {
   "cell_type": "code",
   "execution_count": 282,
   "id": "8a3e021e",
   "metadata": {},
   "outputs": [
    {
     "data": {
      "text/plain": [
       "<bound method KMeans.predict of KMeans(n_clusters=5)>"
      ]
     },
     "execution_count": 282,
     "metadata": {},
     "output_type": "execute_result"
    }
   ],
   "source": []
  },
  {
   "cell_type": "code",
   "execution_count": null,
   "id": "784a2693",
   "metadata": {},
   "outputs": [],
   "source": []
  },
  {
   "cell_type": "code",
   "execution_count": null,
   "id": "7f132f8b",
   "metadata": {},
   "outputs": [],
   "source": []
  },
  {
   "cell_type": "code",
   "execution_count": null,
   "id": "6a3bbcc2",
   "metadata": {},
   "outputs": [],
   "source": []
  },
  {
   "cell_type": "code",
   "execution_count": 46,
   "id": "8d18ff09",
   "metadata": {},
   "outputs": [
    {
     "data": {
      "text/plain": [
       "<matplotlib.lines.Line2D at 0x7f3499e4b9a0>"
      ]
     },
     "execution_count": 46,
     "metadata": {},
     "output_type": "execute_result"
    },
    {
     "data": {
      "image/png": "[encoded data removed]",
      "text/plain": [
       "<Figure size 640x480 with 1 Axes>"
      ]
     },
     "metadata": {},
     "output_type": "display_data"
    }
   ],
   "source": [
    "dataset = 'term_deposits'\n",
    "x, y = load_scores('ica_' + dataset)\n",
    "plt.plot(x, y[1], label='PCA')\n",
    "plt.axvline(32, c='darkseagreen', ls='--', alpha=0.5)"
   ]
  },
  {
   "cell_type": "code",
   "execution_count": null,
   "id": "34a637f9",
   "metadata": {},
   "outputs": [],
   "source": []
  },
  {
   "cell_type": "code",
   "execution_count": null,
   "id": "06ba9bdb",
   "metadata": {},
   "outputs": [],
   "source": []
  },
  {
   "cell_type": "code",
   "execution_count": null,
   "id": "263508fb",
   "metadata": {},
   "outputs": [],
   "source": []
  },
  {
   "cell_type": "code",
   "execution_count": null,
   "id": "0fdf5853",
   "metadata": {},
   "outputs": [],
   "source": []
  },
  {
   "cell_type": "code",
   "execution_count": 9,
   "id": "fe70e27d",
   "metadata": {},
   "outputs": [
    {
     "data": {
      "text/plain": [
       "<matplotlib.legend.Legend at 0x7f34a2def370>"
      ]
     },
     "execution_count": 9,
     "metadata": {},
     "output_type": "execute_result"
    },
    {
     "data": {
      "image/png": "[encoded data removed]",
      "text/plain": [
       "<Figure size 500x500 with 1 Axes>"
      ]
     },
     "metadata": {},
     "output_type": "display_data"
    }
   ],
   "source": [
    "plt.style.use('ggplot')\n",
    "\n",
    "plt.figure(figsize=(5,5))\n",
    "\n",
    "dataset = 'term_deposits'\n",
    "var = 0\n",
    "\n",
    "x, y = load_scores('rca_' + dataset, var)\n",
    "plt.plot(x, y[var], label='RCA')\n",
    "plt.fill_between(\n",
    "    x,\n",
    "    y[var] - y[var+1],\n",
    "    y[var] + y[var+1],\n",
    "    alpha=0.2,\n",
    ")\n",
    "\n",
    "x, y = load_scores('pca_' + dataset, var)\n",
    "plt.plot(x, y[var], label='PCA')\n",
    "\n",
    "x, y = load_scores('ica_' + dataset, var)\n",
    "plt.plot(x, y[var], label='ICA')\n",
    "\n",
    "x, y = load_scores('rfca_' + dataset, var)\n",
    "plt.plot(x, y[var], label='RFCA')\n",
    "plt.legend()"
   ]
  },
  {
   "cell_type": "code",
   "execution_count": 307,
   "id": "fee34959",
   "metadata": {},
   "outputs": [
    {
     "data": {
      "text/plain": [
       "[<matplotlib.lines.Line2D at 0x28f7cee20>]"
      ]
     },
     "execution_count": 307,
     "metadata": {},
     "output_type": "execute_result"
    },
    {
     "data": {
      "image/png": "[encoded data removed]",
      "text/plain": [
       "<Figure size 432x288 with 1 Axes>"
      ]
     },
     "metadata": {
      "needs_background": "light"
     },
     "output_type": "display_data"
    }
   ],
   "source": [
    "x, y = load_scores('kmeans_term_deposits', 2)\n",
    "plt.plot(x, y)"
   ]
  },
  {
   "cell_type": "code",
   "execution_count": 308,
   "id": "eca73a80",
   "metadata": {},
   "outputs": [
    {
     "data": {
      "text/plain": [
       "[<matplotlib.lines.Line2D at 0x28f517970>]"
      ]
     },
     "execution_count": 308,
     "metadata": {},
     "output_type": "execute_result"
    },
    {
     "data": {
      "image/png": "[encoded data removed]",
      "text/plain": [
       "<Figure size 432x288 with 1 Axes>"
      ]
     },
     "metadata": {
      "needs_background": "light"
     },
     "output_type": "display_data"
    }
   ],
   "source": [
    "x, y = load_scores('gmm_term_deposits', 2)\n",
    "plt.plot(x, y)"
   ]
  },
  {
   "cell_type": "code",
   "execution_count": 309,
   "id": "49f73561",
   "metadata": {},
   "outputs": [
    {
     "data": {
      "text/plain": [
       "[<matplotlib.lines.Line2D at 0x28f339790>]"
      ]
     },
     "execution_count": 309,
     "metadata": {},
     "output_type": "execute_result"
    },
    {
     "data": {
      "image/png": "[encoded data removed]",
      "text/plain": [
       "<Figure size 432x288 with 1 Axes>"
      ]
     },
     "metadata": {
      "needs_background": "light"
     },
     "output_type": "display_data"
    }
   ],
   "source": [
    "x, y = load_scores('gmm_term_deposits', 1)\n",
    "plt.plot(x, y)"
   ]
  },
  {
   "cell_type": "code",
   "execution_count": null,
   "id": "af8774fb",
   "metadata": {},
   "outputs": [],
   "source": []
  },
  {
   "cell_type": "code",
   "execution_count": 12,
   "id": "c5ae15c6",
   "metadata": {},
   "outputs": [
    {
     "name": "stderr",
     "output_type": "stream",
     "text": [
      "/home/vinit/.local/lib/python3.9/site-packages/sklearn/base.py:329: UserWarning: Trying to unpickle estimator GaussianMixture from version 1.0 when using version 1.0.2. This might lead to breaking code or invalid results. Use at your own risk. For more info please refer to:\n",
      "https://scikit-learn.org/stable/modules/model_persistence.html#security-maintainability-limitations\n",
      "  warnings.warn(\n"
     ]
    }
   ],
   "source": [
    "nclusters, score = load_scores('gmm_term_deposits')"
   ]
  },
  {
   "cell_type": "code",
   "execution_count": 13,
   "id": "df6aabfe",
   "metadata": {},
   "outputs": [
    {
     "data": {
      "image/png": "[encoded data removed]",
      "text/plain": [
       "<Figure size 600x600 with 1 Axes>"
      ]
     },
     "metadata": {},
     "output_type": "display_data"
    }
   ],
   "source": [
    "knee = kneed.KneeLocator(nclusters, -np.array(score))\n",
    "knee.plot_knee()"
   ]
  },
  {
   "cell_type": "code",
   "execution_count": 14,
   "id": "b1361338",
   "metadata": {},
   "outputs": [
    {
     "name": "stderr",
     "output_type": "stream",
     "text": [
      "/home/vinit/.local/lib/python3.9/site-packages/sklearn/preprocessing/_data.py:3253: RuntimeWarning: divide by zero encountered in log\n",
      "  loglike = -n_samples / 2 * np.log(x_trans.var())\n",
      "/home/vinit/.local/lib/python3.9/site-packages/sklearn/base.py:329: UserWarning: Trying to unpickle estimator KMeans from version 1.0 when using version 1.0.2. This might lead to breaking code or invalid results. Use at your own risk. For more info please refer to:\n",
      "https://scikit-learn.org/stable/modules/model_persistence.html#security-maintainability-limitations\n",
      "  warnings.warn(\n"
     ]
    }
   ],
   "source": [
    "dataset = 'credit_score'\n",
    "algo = 'kmeans'\n",
    "\n",
    "X, y = load_dataset(dataset)\n",
    "data = pickle.load(open(f\"readings/{algo}_{dataset}.pkl\", \"rb\"))"
   ]
  },
  {
   "cell_type": "code",
   "execution_count": 15,
   "id": "be7bd4d9",
   "metadata": {},
   "outputs": [],
   "source": [
    "from sklearn.tree import DecisionTreeClassifier\n",
    "from sklearn.metrics import f1_score\n",
    "\n",
    "def score(X, y, model):\n",
    "    tree = DecisionTreeClassifier(class_weight='balanced')\n",
    "    newX = model.predict(X).reshape((-1, 1))\n",
    "    tree.fit(newX, y)\n",
    "    return f1_score(y, tree.predict(newX), average='macro')\n",
    "\n",
    "\n",
    "nclusters = []\n",
    "scores = []\n",
    "for n, (model, _) in data.items():\n",
    "    nclusters.append(n)\n",
    "    scores.append(score(X, y, model))"
   ]
  },
  {
   "cell_type": "code",
   "execution_count": 16,
   "id": "2a047d12",
   "metadata": {},
   "outputs": [
    {
     "data": {
      "text/plain": [
       "[<matplotlib.lines.Line2D at 0x7f0d1cafe100>]"
      ]
     },
     "execution_count": 16,
     "metadata": {},
     "output_type": "execute_result"
    },
    {
     "data": {
      "image/png": "[encoded data removed]",
      "text/plain": [
       "<Figure size 640x480 with 1 Axes>"
      ]
     },
     "metadata": {},
     "output_type": "display_data"
    }
   ],
   "source": [
    "plt.plot(nclusters, scores)"
   ]
  },
  {
   "cell_type": "code",
   "execution_count": 90,
   "id": "4742a0a3",
   "metadata": {},
   "outputs": [],
   "source": [
    "from sklearn.ensemble import GradientBoostingClassifier, RandomForestClassifier"
   ]
  },
  {
   "cell_type": "code",
   "execution_count": 93,
   "id": "edeae241",
   "metadata": {},
   "outputs": [],
   "source": [
    "boost = RandomForestClassifier(max_depth=8, n_estimators=400, n_jobs=16)"
   ]
  },
  {
   "cell_type": "code",
   "execution_count": 94,
   "id": "c37ee147",
   "metadata": {},
   "outputs": [
    {
     "data": {
      "text/plain": [
       "RandomForestClassifier(max_depth=8, n_estimators=400, n_jobs=16)"
      ]
     },
     "execution_count": 94,
     "metadata": {},
     "output_type": "execute_result"
    }
   ],
   "source": [
    "boost.fit(X, y)"
   ]
  },
  {
   "cell_type": "code",
   "execution_count": 97,
   "id": "eb0e4ab6",
   "metadata": {},
   "outputs": [],
   "source": [
    "from evaluate import *"
   ]
  },
  {
   "cell_type": "code",
   "execution_count": 100,
   "id": "704e2951",
   "metadata": {},
   "outputs": [],
   "source": [
    "pca = PCA(16)\n",
    "X_trans = pca.fit_transform(X)"
   ]
  },
  {
   "cell_type": "code",
   "execution_count": 101,
   "id": "b2046a95",
   "metadata": {},
   "outputs": [
    {
     "data": {
      "text/plain": [
       "0.6211103756389116"
      ]
     },
     "execution_count": 101,
     "metadata": {},
     "output_type": "execute_result"
    }
   ],
   "source": [
    "lr_mean_auc_score(X_trans, y)"
   ]
  },
  {
   "cell_type": "code",
   "execution_count": null,
   "id": "981a7510",
   "metadata": {},
   "outputs": [],
   "source": [
    "from sklearn.decomposition import PCA, FastICA\n",
    "from scipy.stats import kurtosis"
   ]
  },
  {
   "cell_type": "code",
   "execution_count": 34,
   "id": "1d8e5ce9",
   "metadata": {},
   "outputs": [],
   "source": [
    "from sklearn.linear_model import LogisticRegression\n",
    "from sklearn.tree import DecisionTreeClassifier"
   ]
  },
  {
   "cell_type": "code",
   "execution_count": 47,
   "id": "dea5ef95",
   "metadata": {},
   "outputs": [],
   "source": [
    "from sklearn.decomposition import PCA"
   ]
  },
  {
   "cell_type": "code",
   "execution_count": 65,
   "id": "b9d93cde",
   "metadata": {},
   "outputs": [
    {
     "data": {
      "text/plain": [
       "array([[ 1.51055969e+00, -1.59636117e+00, -9.59803637e-01, ...,\n",
       "        -6.05102859e-16, -1.13147913e-16,  2.07310892e-15],\n",
       "       [ 1.37619439e+00, -6.52925540e-01, -6.83614378e-01, ...,\n",
       "        -1.41418307e-16,  1.75530463e-16, -2.19366707e-15],\n",
       "       [ 2.28288059e+00, -1.32243354e+00, -8.18608962e-01, ...,\n",
       "        -4.50305999e-16,  1.35269966e-16,  3.28308428e-15],\n",
       "       ...,\n",
       "       [-1.56427550e-01, -1.37549147e-01,  2.39977991e+00, ...,\n",
       "         9.39560229e-18,  4.52774169e-19, -1.67469406e-17],\n",
       "       [ 1.18215274e+00, -2.59539028e-01, -1.60129613e-01, ...,\n",
       "         5.75703404e-18,  1.26614569e-19, -1.03685031e-17],\n",
       "       [ 1.40936361e+00, -3.19682389e-01,  9.34341979e-02, ...,\n",
       "         5.93319532e-18,  2.85757486e-19, -1.03155195e-17]])"
      ]
     },
     "execution_count": 65,
     "metadata": {},
     "output_type": "execute_result"
    }
   ],
   "source": [
    "pca = PCA(random_state=0)\n",
    "pca.fit_transform(X)"
   ]
  },
  {
   "cell_type": "code",
   "execution_count": 68,
   "id": "6b61d0b3",
   "metadata": {},
   "outputs": [
    {
     "data": {
      "text/plain": [
       "[<matplotlib.lines.Line2D at 0x7f0d17e257f0>]"
      ]
     },
     "execution_count": 68,
     "metadata": {},
     "output_type": "execute_result"
    },
    {
     "data": {
      "image/png": "[encoded data removed]",
      "text/plain": [
       "<Figure size 640x480 with 1 Axes>"
      ]
     },
     "metadata": {},
     "output_type": "display_data"
    }
   ],
   "source": [
    "plt.plot(pca.explained_variance_ratio_)"
   ]
  },
  {
   "cell_type": "code",
   "execution_count": 69,
   "id": "7badd77f",
   "metadata": {},
   "outputs": [],
   "source": [
    "variance = pca.explained_variance_ratio_"
   ]
  },
  {
   "cell_type": "code",
   "execution_count": null,
   "id": "194dc43e",
   "metadata": {},
   "outputs": [],
   "source": []
  },
  {
   "cell_type": "code",
   "execution_count": 53,
   "id": "764c54db",
   "metadata": {},
   "outputs": [
    {
     "data": {
      "text/plain": [
       "array([[ 1.51055969, -1.59636117, -0.95980364],\n",
       "       [ 1.37619439, -0.65292554, -0.68361438],\n",
       "       [ 2.28288059, -1.32243354, -0.81860896],\n",
       "       ...,\n",
       "       [-0.15642755, -0.13754915,  2.39977991],\n",
       "       [ 1.18215274, -0.25953903, -0.16012961],\n",
       "       [ 1.40936361, -0.31968239,  0.0934342 ]])"
      ]
     },
     "execution_count": 53,
     "metadata": {},
     "output_type": "execute_result"
    }
   ],
   "source": [
    "pca.fit_transform(X)[:, :3]"
   ]
  },
  {
   "cell_type": "code",
   "execution_count": 49,
   "id": "f64d7856",
   "metadata": {},
   "outputs": [
    {
     "data": {
      "text/plain": [
       "array([[ 1.51055969e+00, -1.59636117e+00, -9.59803637e-01, ...,\n",
       "        -6.05102859e-16, -1.13147913e-16,  2.07310892e-15],\n",
       "       [ 1.37619439e+00, -6.52925540e-01, -6.83614378e-01, ...,\n",
       "        -1.41418307e-16,  1.75530463e-16, -2.19366707e-15],\n",
       "       [ 2.28288059e+00, -1.32243354e+00, -8.18608962e-01, ...,\n",
       "        -4.50305999e-16,  1.35269966e-16,  3.28308428e-15],\n",
       "       ...,\n",
       "       [-1.56427550e-01, -1.37549147e-01,  2.39977991e+00, ...,\n",
       "         9.39560229e-18,  4.52774169e-19, -1.67469406e-17],\n",
       "       [ 1.18215274e+00, -2.59539028e-01, -1.60129613e-01, ...,\n",
       "         5.75703404e-18,  1.26614569e-19, -1.03685031e-17],\n",
       "       [ 1.40936361e+00, -3.19682389e-01,  9.34341979e-02, ...,\n",
       "         5.93319532e-18,  2.85757486e-19, -1.03155195e-17]])"
      ]
     },
     "execution_count": 49,
     "metadata": {},
     "output_type": "execute_result"
    }
   ],
   "source": []
  },
  {
   "cell_type": "code",
   "execution_count": null,
   "id": "345d4e47",
   "metadata": {},
   "outputs": [],
   "source": []
  },
  {
   "cell_type": "code",
   "execution_count": 41,
   "id": "5e09d17e",
   "metadata": {},
   "outputs": [],
   "source": [
    "lr = DecisionTreeClassifier(max_depth=8)"
   ]
  },
  {
   "cell_type": "code",
   "execution_count": null,
   "id": "b687bb38",
   "metadata": {},
   "outputs": [],
   "source": []
  },
  {
   "cell_type": "code",
   "execution_count": null,
   "id": "cf43d745",
   "metadata": {},
   "outputs": [],
   "source": [
    "boost.feature_importances_"
   ]
  },
  {
   "cell_type": "code",
   "execution_count": 74,
   "id": "9946abab",
   "metadata": {},
   "outputs": [
    {
     "name": "stdout",
     "output_type": "stream",
     "text": [
      "2 -0.9818013933451346\n",
      "4 34.61240959741494\n"
     ]
    },
    {
     "name": "stderr",
     "output_type": "stream",
     "text": [
      "/home/vinit/.local/lib/python3.9/site-packages/sklearn/decomposition/_fastica.py:116: ConvergenceWarning: FastICA did not converge. Consider increasing tolerance or the maximum number of iterations.\n",
      "  warnings.warn(\n"
     ]
    },
    {
     "name": "stdout",
     "output_type": "stream",
     "text": [
      "8 153.25327074794373\n",
      "16 229.35453912134057\n",
      "32 312.72513435691997\n"
     ]
    },
    {
     "name": "stderr",
     "output_type": "stream",
     "text": [
      "/home/vinit/.local/lib/python3.9/site-packages/sklearn/decomposition/_fastica.py:116: ConvergenceWarning: FastICA did not converge. Consider increasing tolerance or the maximum number of iterations.\n",
      "  warnings.warn(\n"
     ]
    },
    {
     "name": "stdout",
     "output_type": "stream",
     "text": [
      "48 148.1583632539504\n"
     ]
    },
    {
     "name": "stderr",
     "output_type": "stream",
     "text": [
      "/home/vinit/.local/lib/python3.9/site-packages/sklearn/decomposition/_fastica.py:519: UserWarning: n_components is too large: it will be set to 56\n",
      "  warnings.warn(\n",
      "/home/vinit/.local/lib/python3.9/site-packages/sklearn/decomposition/_fastica.py:116: ConvergenceWarning: FastICA did not converge. Consider increasing tolerance or the maximum number of iterations.\n",
      "  warnings.warn(\n"
     ]
    },
    {
     "name": "stdout",
     "output_type": "stream",
     "text": [
      "64 5.1724824085214856\n"
     ]
    }
   ],
   "source": [
    "for n in [2, 4, 8, 16, 32, 48, 64]:\n",
    "    ica = FastICA(n, whiten='unit-variance')\n",
    "    ica.fit(X)\n",
    "    print(n, kurtosis(ica.transform(X), axis=0).sum())"
   ]
  },
  {
   "cell_type": "code",
   "execution_count": 88,
   "id": "d5184569",
   "metadata": {},
   "outputs": [],
   "source": [
    "pca = FastICA(16)\n",
    "reconstructed = pca.inverse_transform(pca.fit_transform(X))"
   ]
  },
  {
   "cell_type": "code",
   "execution_count": null,
   "id": "065607b7",
   "metadata": {},
   "outputs": [],
   "source": []
  },
  {
   "cell_type": "code",
   "execution_count": 89,
   "id": "9ce3b5cf",
   "metadata": {},
   "outputs": [
    {
     "data": {
      "text/plain": [
       "2.5378296657313535"
      ]
     },
     "execution_count": 89,
     "metadata": {},
     "output_type": "execute_result"
    }
   ],
   "source": [
    "(((reconstructed - X)**2).sum(axis=1)).mean()"
   ]
  },
  {
   "cell_type": "code",
   "execution_count": 297,
   "id": "322d34a5",
   "metadata": {},
   "outputs": [],
   "source": [
    "t = \"\"\"2 -0.4906784161475022\n",
    "4 8.652832398926428\n",
    "8 19.318156970636498\n",
    "16 14.334657714354384\n",
    "32 9.677557957785847\n",
    "48 7.977143117745374\n",
    "64 3.0980037902029656\"\"\".split('\\n')"
   ]
  },
  {
   "cell_type": "code",
   "execution_count": 300,
   "id": "05744e0c",
   "metadata": {},
   "outputs": [
    {
     "data": {
      "text/plain": [
       "[<matplotlib.lines.Line2D at 0x28f58abe0>]"
      ]
     },
     "execution_count": 300,
     "metadata": {},
     "output_type": "execute_result"
    },
    {
     "data": {
      "image/png": "[encoded data removed]",
      "text/plain": [
       "<Figure size 432x288 with 1 Axes>"
      ]
     },
     "metadata": {
      "needs_background": "light"
     },
     "output_type": "display_data"
    }
   ],
   "source": [
    "plt.plot(*list(zip(*[list(map(float, a.split(' '))) for a in t])))"
   ]
  },
  {
   "cell_type": "code",
   "execution_count": 224,
   "id": "bb359700",
   "metadata": {},
   "outputs": [],
   "source": []
  },
  {
   "cell_type": "code",
   "execution_count": 238,
   "id": "b5cb2c4c",
   "metadata": {},
   "outputs": [
    {
     "data": {
      "text/plain": [
       "6.612601325346887"
      ]
     },
     "execution_count": 238,
     "metadata": {},
     "output_type": "execute_result"
    }
   ],
   "source": [
    "kurtosis(X, axis=0).mean()"
   ]
  },
  {
   "cell_type": "code",
   "execution_count": 295,
   "id": "a1982869",
   "metadata": {},
   "outputs": [
    {
     "data": {
      "text/plain": [
       "(56,)"
      ]
     },
     "execution_count": 295,
     "metadata": {},
     "output_type": "execute_result"
    }
   ],
   "source": [
    "ica.mean_.shape"
   ]
  },
  {
   "cell_type": "code",
   "execution_count": 236,
   "id": "741eb73b",
   "metadata": {},
   "outputs": [
    {
     "data": {
      "text/plain": [
       "4.400292254367207"
      ]
     },
     "execution_count": 236,
     "metadata": {},
     "output_type": "execute_result"
    }
   ],
   "source": [
    "((X - X.mean(axis=0))**4).mean()"
   ]
  },
  {
   "cell_type": "code",
   "execution_count": null,
   "id": "6473ed5c",
   "metadata": {},
   "outputs": [],
   "source": []
  },
  {
   "cell_type": "code",
   "execution_count": 268,
   "id": "793dc498",
   "metadata": {},
   "outputs": [
    {
     "data": {
      "text/plain": [
       "0.11261931621674294"
      ]
     },
     "execution_count": 268,
     "metadata": {},
     "output_type": "execute_result"
    }
   ],
   "source": [
    "mean2"
   ]
  },
  {
   "cell_type": "code",
   "execution_count": 294,
   "id": "ea865f30",
   "metadata": {},
   "outputs": [
    {
     "data": {
      "text/plain": [
       "6.612601325346887"
      ]
     },
     "execution_count": 294,
     "metadata": {},
     "output_type": "execute_result"
    }
   ],
   "source": []
  },
  {
   "cell_type": "code",
   "execution_count": 240,
   "id": "f09ea86f",
   "metadata": {},
   "outputs": [
    {
     "data": {
      "text/plain": [
       "array([0.00345479, 0.00354161, 0.00341786, 0.00326782, 0.00353641,\n",
       "       0.00335567, 0.00326581, 0.00377327, 0.00315421, 0.00347538,\n",
       "       0.00341479, 0.00309314, 0.00348363, 0.00339742, 0.00306768,\n",
       "       0.00430767, 0.02366422, 0.03390792, 0.05369335, 0.02597454,\n",
       "       0.0111626 , 0.05265029, 0.06222978, 0.00493141, 0.01401463,\n",
       "       0.02091924, 0.01010838, 0.00872019, 0.01425571, 0.0361147 ,\n",
       "       0.        , 0.        , 0.        , 0.        , 0.        ,\n",
       "       0.        , 0.        , 0.        , 0.        , 1.        ,\n",
       "       0.        , 0.722466  , 1.        , 1.        , 1.        ,\n",
       "       1.        , 1.        , 1.        , 0.976144  , 1.        ,\n",
       "       1.        , 0.8648628 , 1.        , 0.96108612, 1.        ,\n",
       "       0.91242614])"
      ]
     },
     "execution_count": 240,
     "metadata": {},
     "output_type": "execute_result"
    }
   ],
   "source": [
    "((X - X.mean(axis=0))**2).mean(axis=0)**2"
   ]
  },
  {
   "cell_type": "code",
   "execution_count": null,
   "id": "615de2c1",
   "metadata": {},
   "outputs": [],
   "source": []
  },
  {
   "cell_type": "code",
   "execution_count": null,
   "id": "a898ef63",
   "metadata": {},
   "outputs": [],
   "source": []
  },
  {
   "cell_type": "code",
   "execution_count": 76,
   "id": "46266b30",
   "metadata": {},
   "outputs": [
    {
     "name": "stdout",
     "output_type": "stream",
     "text": [
      "2 14036.82471492004\n",
      "4 8366.613520562352\n",
      "8 5727.639141203562\n",
      "16 3559.4197891812605\n",
      "32 2174.316292276627\n",
      "48 1614.526480523732\n",
      "64 1309.7117479168016\n"
     ]
    }
   ],
   "source": [
    "n_clusters = [2, 4, 8, 16, 32, 48, 64]\n",
    "score = []\n",
    "\n",
    "for k in n_clusters:\n",
    "    kmeans = KMeans(k)\n",
    "    y_pred = kmeans.fit_predict(X)\n",
    "    score.append(calinski_harabasz_score(X, y_pred))\n",
    "    print(k, score[-1])"
   ]
  },
  {
   "cell_type": "code",
   "execution_count": 77,
   "id": "99c64ed8",
   "metadata": {},
   "outputs": [
    {
     "data": {
      "text/plain": [
       "[<matplotlib.lines.Line2D at 0x28764c3d0>]"
      ]
     },
     "execution_count": 77,
     "metadata": {},
     "output_type": "execute_result"
    },
    {
     "data": {
      "image/png": "[encoded data removed]",
      "text/plain": [
       "<Figure size 432x288 with 1 Axes>"
      ]
     },
     "metadata": {
      "needs_background": "light"
     },
     "output_type": "display_data"
    }
   ],
   "source": [
    "plt.plot(n_clusters, score)"
   ]
  },
  {
   "cell_type": "code",
   "execution_count": 81,
   "id": "c2224c46",
   "metadata": {},
   "outputs": [
    {
     "name": "stdout",
     "output_type": "stream",
     "text": [
      "Looking in indexes: https://pypi.org/simple, https://pypi.ngc.nvidia.com\n",
      "Collecting kneed\n",
      "  Downloading kneed-0.8.1-py2.py3-none-any.whl (10 kB)\n",
      "Requirement already satisfied: numpy>=1.14.2 in /Users/vinit/miniforge3/envs/main/lib/python3.8/site-packages (from kneed) (1.21.3)\n",
      "Requirement already satisfied: scipy>=1.0.0 in /Users/vinit/miniforge3/envs/main/lib/python3.8/site-packages (from kneed) (1.7.0)\n",
      "Installing collected packages: kneed\n",
      "Successfully installed kneed-0.8.1\n"
     ]
    }
   ],
   "source": [
    "!pip install kneed"
   ]
  },
  {
   "cell_type": "code",
   "execution_count": 83,
   "id": "38c757c6",
   "metadata": {},
   "outputs": [],
   "source": []
  },
  {
   "cell_type": "code",
   "execution_count": 99,
   "id": "4f868052",
   "metadata": {},
   "outputs": [
    {
     "name": "stdout",
     "output_type": "stream",
     "text": [
      "Knee:  16\n"
     ]
    },
    {
     "data": {
      "image/png": "[encoded data removed]",
      "text/plain": [
       "<Figure size 432x432 with 1 Axes>"
      ]
     },
     "metadata": {
      "needs_background": "light"
     },
     "output_type": "display_data"
    }
   ],
   "source": [
    "kneedle = kneed.KneeLocator(n_clusters, -np.array(score))\n",
    "print('Knee: ', kneedle.knee)\n",
    "kneedle.plot_knee()"
   ]
  },
  {
   "cell_type": "code",
   "execution_count": 98,
   "id": "efe73c91",
   "metadata": {},
   "outputs": [
    {
     "name": "stdout",
     "output_type": "stream",
     "text": [
      "Knee:  16\n"
     ]
    },
    {
     "data": {
      "image/png": "[encoded data removed]",
      "text/plain": [
       "<Figure size 432x432 with 1 Axes>"
      ]
     },
     "metadata": {
      "needs_background": "light"
     },
     "output_type": "display_data"
    }
   ],
   "source": []
  },
  {
   "cell_type": "code",
   "execution_count": 4,
   "id": "34a259a2",
   "metadata": {},
   "outputs": [
    {
     "name": "stdout",
     "output_type": "stream",
     "text": [
      "2 16565.564175976113\n",
      "4 7129.741527051317\n",
      "8 3576.4626756020366\n",
      "16 1643.3287382728386\n",
      "32 1085.8128001439088\n",
      "64 555.9431047127802\n"
     ]
    },
    {
     "ename": "KeyboardInterrupt",
     "evalue": "",
     "output_type": "error",
     "traceback": [
      "\u001b[0;31m---------------------------------------------------------------------------\u001b[0m",
      "\u001b[0;31mKeyboardInterrupt\u001b[0m                         Traceback (most recent call last)",
      "\u001b[0;32m/var/folders/p8/0wsy16q946lb_4prf1n0l93m0000gp/T/ipykernel_80080/3628944017.py\u001b[0m in \u001b[0;36m<module>\u001b[0;34m\u001b[0m\n\u001b[1;32m      4\u001b[0m \u001b[0;32mfor\u001b[0m \u001b[0mk\u001b[0m \u001b[0;32min\u001b[0m \u001b[0mn_clusters\u001b[0m\u001b[0;34m:\u001b[0m\u001b[0;34m\u001b[0m\u001b[0;34m\u001b[0m\u001b[0m\n\u001b[1;32m      5\u001b[0m     \u001b[0mgmm\u001b[0m \u001b[0;34m=\u001b[0m \u001b[0mGaussianMixture\u001b[0m\u001b[0;34m(\u001b[0m\u001b[0mk\u001b[0m\u001b[0;34m)\u001b[0m\u001b[0;34m\u001b[0m\u001b[0;34m\u001b[0m\u001b[0m\n\u001b[0;32m----> 6\u001b[0;31m     \u001b[0my_pred\u001b[0m \u001b[0;34m=\u001b[0m \u001b[0mgmm\u001b[0m\u001b[0;34m.\u001b[0m\u001b[0mfit_predict\u001b[0m\u001b[0;34m(\u001b[0m\u001b[0mX\u001b[0m\u001b[0;34m)\u001b[0m\u001b[0;34m\u001b[0m\u001b[0;34m\u001b[0m\u001b[0m\n\u001b[0m\u001b[1;32m      7\u001b[0m     \u001b[0mscore\u001b[0m\u001b[0;34m.\u001b[0m\u001b[0mappend\u001b[0m\u001b[0;34m(\u001b[0m\u001b[0mcalinski_harabasz_score\u001b[0m\u001b[0;34m(\u001b[0m\u001b[0mX\u001b[0m\u001b[0;34m,\u001b[0m \u001b[0my_pred\u001b[0m\u001b[0;34m)\u001b[0m\u001b[0;34m)\u001b[0m\u001b[0;34m\u001b[0m\u001b[0;34m\u001b[0m\u001b[0m\n\u001b[1;32m      8\u001b[0m     \u001b[0mprint\u001b[0m\u001b[0;34m(\u001b[0m\u001b[0mk\u001b[0m\u001b[0;34m,\u001b[0m \u001b[0mscore\u001b[0m\u001b[0;34m[\u001b[0m\u001b[0;34m-\u001b[0m\u001b[0;36m1\u001b[0m\u001b[0;34m]\u001b[0m\u001b[0;34m)\u001b[0m\u001b[0;34m\u001b[0m\u001b[0;34m\u001b[0m\u001b[0m\n",
      "\u001b[0;32m~/miniforge3/envs/main/lib/python3.8/site-packages/sklearn/mixture/_base.py\u001b[0m in \u001b[0;36mfit_predict\u001b[0;34m(self, X, y)\u001b[0m\n\u001b[1;32m    256\u001b[0m                 \u001b[0mprev_lower_bound\u001b[0m \u001b[0;34m=\u001b[0m \u001b[0mlower_bound\u001b[0m\u001b[0;34m\u001b[0m\u001b[0;34m\u001b[0m\u001b[0m\n\u001b[1;32m    257\u001b[0m \u001b[0;34m\u001b[0m\u001b[0m\n\u001b[0;32m--> 258\u001b[0;31m                 \u001b[0mlog_prob_norm\u001b[0m\u001b[0;34m,\u001b[0m \u001b[0mlog_resp\u001b[0m \u001b[0;34m=\u001b[0m \u001b[0mself\u001b[0m\u001b[0;34m.\u001b[0m\u001b[0m_e_step\u001b[0m\u001b[0;34m(\u001b[0m\u001b[0mX\u001b[0m\u001b[0;34m)\u001b[0m\u001b[0;34m\u001b[0m\u001b[0;34m\u001b[0m\u001b[0m\n\u001b[0m\u001b[1;32m    259\u001b[0m                 \u001b[0mself\u001b[0m\u001b[0;34m.\u001b[0m\u001b[0m_m_step\u001b[0m\u001b[0;34m(\u001b[0m\u001b[0mX\u001b[0m\u001b[0;34m,\u001b[0m \u001b[0mlog_resp\u001b[0m\u001b[0;34m)\u001b[0m\u001b[0;34m\u001b[0m\u001b[0;34m\u001b[0m\u001b[0m\n\u001b[1;32m    260\u001b[0m                 \u001b[0mlower_bound\u001b[0m \u001b[0;34m=\u001b[0m \u001b[0mself\u001b[0m\u001b[0;34m.\u001b[0m\u001b[0m_compute_lower_bound\u001b[0m\u001b[0;34m(\u001b[0m\u001b[0mlog_resp\u001b[0m\u001b[0;34m,\u001b[0m \u001b[0mlog_prob_norm\u001b[0m\u001b[0;34m)\u001b[0m\u001b[0;34m\u001b[0m\u001b[0;34m\u001b[0m\u001b[0m\n",
      "\u001b[0;32m~/miniforge3/envs/main/lib/python3.8/site-packages/sklearn/mixture/_base.py\u001b[0m in \u001b[0;36m_e_step\u001b[0;34m(self, X)\u001b[0m\n\u001b[1;32m    310\u001b[0m             \u001b[0mthe\u001b[0m \u001b[0mpoint\u001b[0m \u001b[0mof\u001b[0m \u001b[0meach\u001b[0m \u001b[0msample\u001b[0m \u001b[0;32min\u001b[0m \u001b[0mX\u001b[0m\u001b[0;34m.\u001b[0m\u001b[0;34m\u001b[0m\u001b[0;34m\u001b[0m\u001b[0m\n\u001b[1;32m    311\u001b[0m         \"\"\"\n\u001b[0;32m--> 312\u001b[0;31m         \u001b[0mlog_prob_norm\u001b[0m\u001b[0;34m,\u001b[0m \u001b[0mlog_resp\u001b[0m \u001b[0;34m=\u001b[0m \u001b[0mself\u001b[0m\u001b[0;34m.\u001b[0m\u001b[0m_estimate_log_prob_resp\u001b[0m\u001b[0;34m(\u001b[0m\u001b[0mX\u001b[0m\u001b[0;34m)\u001b[0m\u001b[0;34m\u001b[0m\u001b[0;34m\u001b[0m\u001b[0m\n\u001b[0m\u001b[1;32m    313\u001b[0m         \u001b[0;32mreturn\u001b[0m \u001b[0mnp\u001b[0m\u001b[0;34m.\u001b[0m\u001b[0mmean\u001b[0m\u001b[0;34m(\u001b[0m\u001b[0mlog_prob_norm\u001b[0m\u001b[0;34m)\u001b[0m\u001b[0;34m,\u001b[0m \u001b[0mlog_resp\u001b[0m\u001b[0;34m\u001b[0m\u001b[0;34m\u001b[0m\u001b[0m\n\u001b[1;32m    314\u001b[0m \u001b[0;34m\u001b[0m\u001b[0m\n",
      "\u001b[0;32m~/miniforge3/envs/main/lib/python3.8/site-packages/sklearn/mixture/_base.py\u001b[0m in \u001b[0;36m_estimate_log_prob_resp\u001b[0;34m(self, X)\u001b[0m\n\u001b[1;32m    528\u001b[0m             \u001b[0mlogarithm\u001b[0m \u001b[0mof\u001b[0m \u001b[0mthe\u001b[0m \u001b[0mresponsibilities\u001b[0m\u001b[0;34m\u001b[0m\u001b[0;34m\u001b[0m\u001b[0m\n\u001b[1;32m    529\u001b[0m         \"\"\"\n\u001b[0;32m--> 530\u001b[0;31m         \u001b[0mweighted_log_prob\u001b[0m \u001b[0;34m=\u001b[0m \u001b[0mself\u001b[0m\u001b[0;34m.\u001b[0m\u001b[0m_estimate_weighted_log_prob\u001b[0m\u001b[0;34m(\u001b[0m\u001b[0mX\u001b[0m\u001b[0;34m)\u001b[0m\u001b[0;34m\u001b[0m\u001b[0;34m\u001b[0m\u001b[0m\n\u001b[0m\u001b[1;32m    531\u001b[0m         \u001b[0mlog_prob_norm\u001b[0m \u001b[0;34m=\u001b[0m \u001b[0mlogsumexp\u001b[0m\u001b[0;34m(\u001b[0m\u001b[0mweighted_log_prob\u001b[0m\u001b[0;34m,\u001b[0m \u001b[0maxis\u001b[0m\u001b[0;34m=\u001b[0m\u001b[0;36m1\u001b[0m\u001b[0;34m)\u001b[0m\u001b[0;34m\u001b[0m\u001b[0;34m\u001b[0m\u001b[0m\n\u001b[1;32m    532\u001b[0m         \u001b[0;32mwith\u001b[0m \u001b[0mnp\u001b[0m\u001b[0;34m.\u001b[0m\u001b[0merrstate\u001b[0m\u001b[0;34m(\u001b[0m\u001b[0munder\u001b[0m\u001b[0;34m=\u001b[0m\u001b[0;34m\"ignore\"\u001b[0m\u001b[0;34m)\u001b[0m\u001b[0;34m:\u001b[0m\u001b[0;34m\u001b[0m\u001b[0;34m\u001b[0m\u001b[0m\n",
      "\u001b[0;32m~/miniforge3/envs/main/lib/python3.8/site-packages/sklearn/mixture/_base.py\u001b[0m in \u001b[0;36m_estimate_weighted_log_prob\u001b[0;34m(self, X)\u001b[0m\n\u001b[1;32m    481\u001b[0m         \u001b[0mweighted_log_prob\u001b[0m \u001b[0;34m:\u001b[0m \u001b[0marray\u001b[0m\u001b[0;34m,\u001b[0m \u001b[0mshape\u001b[0m \u001b[0;34m(\u001b[0m\u001b[0mn_samples\u001b[0m\u001b[0;34m,\u001b[0m \u001b[0mn_component\u001b[0m\u001b[0;34m)\u001b[0m\u001b[0;34m\u001b[0m\u001b[0;34m\u001b[0m\u001b[0m\n\u001b[1;32m    482\u001b[0m         \"\"\"\n\u001b[0;32m--> 483\u001b[0;31m         \u001b[0;32mreturn\u001b[0m \u001b[0mself\u001b[0m\u001b[0;34m.\u001b[0m\u001b[0m_estimate_log_prob\u001b[0m\u001b[0;34m(\u001b[0m\u001b[0mX\u001b[0m\u001b[0;34m)\u001b[0m \u001b[0;34m+\u001b[0m \u001b[0mself\u001b[0m\u001b[0;34m.\u001b[0m\u001b[0m_estimate_log_weights\u001b[0m\u001b[0;34m(\u001b[0m\u001b[0;34m)\u001b[0m\u001b[0;34m\u001b[0m\u001b[0;34m\u001b[0m\u001b[0m\n\u001b[0m\u001b[1;32m    484\u001b[0m \u001b[0;34m\u001b[0m\u001b[0m\n\u001b[1;32m    485\u001b[0m     \u001b[0;34m@\u001b[0m\u001b[0mabstractmethod\u001b[0m\u001b[0;34m\u001b[0m\u001b[0;34m\u001b[0m\u001b[0m\n",
      "\u001b[0;32m~/miniforge3/envs/main/lib/python3.8/site-packages/sklearn/mixture/_gaussian_mixture.py\u001b[0m in \u001b[0;36m_estimate_log_prob\u001b[0;34m(self, X)\u001b[0m\n\u001b[1;32m    751\u001b[0m \u001b[0;34m\u001b[0m\u001b[0m\n\u001b[1;32m    752\u001b[0m     \u001b[0;32mdef\u001b[0m \u001b[0m_estimate_log_prob\u001b[0m\u001b[0;34m(\u001b[0m\u001b[0mself\u001b[0m\u001b[0;34m,\u001b[0m \u001b[0mX\u001b[0m\u001b[0;34m)\u001b[0m\u001b[0;34m:\u001b[0m\u001b[0;34m\u001b[0m\u001b[0;34m\u001b[0m\u001b[0m\n\u001b[0;32m--> 753\u001b[0;31m         return _estimate_log_gaussian_prob(\n\u001b[0m\u001b[1;32m    754\u001b[0m             \u001b[0mX\u001b[0m\u001b[0;34m,\u001b[0m \u001b[0mself\u001b[0m\u001b[0;34m.\u001b[0m\u001b[0mmeans_\u001b[0m\u001b[0;34m,\u001b[0m \u001b[0mself\u001b[0m\u001b[0;34m.\u001b[0m\u001b[0mprecisions_cholesky_\u001b[0m\u001b[0;34m,\u001b[0m \u001b[0mself\u001b[0m\u001b[0;34m.\u001b[0m\u001b[0mcovariance_type\u001b[0m\u001b[0;34m\u001b[0m\u001b[0;34m\u001b[0m\u001b[0m\n\u001b[1;32m    755\u001b[0m         )\n",
      "\u001b[0;32m~/miniforge3/envs/main/lib/python3.8/site-packages/sklearn/mixture/_gaussian_mixture.py\u001b[0m in \u001b[0;36m_estimate_log_gaussian_prob\u001b[0;34m(X, means, precisions_chol, covariance_type)\u001b[0m\n\u001b[1;32m    423\u001b[0m         \u001b[0;32mfor\u001b[0m \u001b[0mk\u001b[0m\u001b[0;34m,\u001b[0m \u001b[0;34m(\u001b[0m\u001b[0mmu\u001b[0m\u001b[0;34m,\u001b[0m \u001b[0mprec_chol\u001b[0m\u001b[0;34m)\u001b[0m \u001b[0;32min\u001b[0m \u001b[0menumerate\u001b[0m\u001b[0;34m(\u001b[0m\u001b[0mzip\u001b[0m\u001b[0;34m(\u001b[0m\u001b[0mmeans\u001b[0m\u001b[0;34m,\u001b[0m \u001b[0mprecisions_chol\u001b[0m\u001b[0;34m)\u001b[0m\u001b[0;34m)\u001b[0m\u001b[0;34m:\u001b[0m\u001b[0;34m\u001b[0m\u001b[0;34m\u001b[0m\u001b[0m\n\u001b[1;32m    424\u001b[0m             \u001b[0my\u001b[0m \u001b[0;34m=\u001b[0m \u001b[0mnp\u001b[0m\u001b[0;34m.\u001b[0m\u001b[0mdot\u001b[0m\u001b[0;34m(\u001b[0m\u001b[0mX\u001b[0m\u001b[0;34m,\u001b[0m \u001b[0mprec_chol\u001b[0m\u001b[0;34m)\u001b[0m \u001b[0;34m-\u001b[0m \u001b[0mnp\u001b[0m\u001b[0;34m.\u001b[0m\u001b[0mdot\u001b[0m\u001b[0;34m(\u001b[0m\u001b[0mmu\u001b[0m\u001b[0;34m,\u001b[0m \u001b[0mprec_chol\u001b[0m\u001b[0;34m)\u001b[0m\u001b[0;34m\u001b[0m\u001b[0;34m\u001b[0m\u001b[0m\n\u001b[0;32m--> 425\u001b[0;31m             \u001b[0mlog_prob\u001b[0m\u001b[0;34m[\u001b[0m\u001b[0;34m:\u001b[0m\u001b[0;34m,\u001b[0m \u001b[0mk\u001b[0m\u001b[0;34m]\u001b[0m \u001b[0;34m=\u001b[0m \u001b[0mnp\u001b[0m\u001b[0;34m.\u001b[0m\u001b[0msum\u001b[0m\u001b[0;34m(\u001b[0m\u001b[0mnp\u001b[0m\u001b[0;34m.\u001b[0m\u001b[0msquare\u001b[0m\u001b[0;34m(\u001b[0m\u001b[0my\u001b[0m\u001b[0;34m)\u001b[0m\u001b[0;34m,\u001b[0m \u001b[0maxis\u001b[0m\u001b[0;34m=\u001b[0m\u001b[0;36m1\u001b[0m\u001b[0;34m)\u001b[0m\u001b[0;34m\u001b[0m\u001b[0;34m\u001b[0m\u001b[0m\n\u001b[0m\u001b[1;32m    426\u001b[0m \u001b[0;34m\u001b[0m\u001b[0m\n\u001b[1;32m    427\u001b[0m     \u001b[0;32melif\u001b[0m \u001b[0mcovariance_type\u001b[0m \u001b[0;34m==\u001b[0m \u001b[0;34m\"tied\"\u001b[0m\u001b[0;34m:\u001b[0m\u001b[0;34m\u001b[0m\u001b[0;34m\u001b[0m\u001b[0m\n",
      "\u001b[0;31mKeyboardInterrupt\u001b[0m: "
     ]
    }
   ],
   "source": [
    "n_clusters = [2, 4, 8, 16, 32, 48, 64]\n",
    "score = []\n",
    "\n",
    "for k in n_clusters:\n",
    "    gmm = GaussianMixture(k)\n",
    "    y_pred = gmm.fit_predict(X)\n",
    "    score.append(calinski_harabasz_score(X, y_pred))\n",
    "    print(k, score[-1])"
   ]
  },
  {
   "cell_type": "code",
   "execution_count": 9,
   "id": "3a98954f",
   "metadata": {},
   "outputs": [],
   "source": [
    "pca = PCA()\n",
    "pca.fit_transform(X);"
   ]
  },
  {
   "cell_type": "code",
   "execution_count": 12,
   "id": "a01bac24",
   "metadata": {},
   "outputs": [
    {
     "data": {
      "text/plain": [
       "[<matplotlib.lines.Line2D at 0x284fdcbe0>]"
      ]
     },
     "execution_count": 12,
     "metadata": {},
     "output_type": "execute_result"
    },
    {
     "data": {
      "image/png": "[encoded data removed]",
      "text/plain": [
       "<Figure size 432x288 with 1 Axes>"
      ]
     },
     "metadata": {
      "needs_background": "light"
     },
     "output_type": "display_data"
    }
   ],
   "source": [
    "plt.plot(pca.explained_variance_ratio_)"
   ]
  },
  {
   "cell_type": "code",
   "execution_count": 58,
   "id": "0eba9551",
   "metadata": {},
   "outputs": [],
   "source": [
    "pca = PCA(32)\n",
    "X_trans = pca.fit_transform(X);"
   ]
  },
  {
   "cell_type": "code",
   "execution_count": 14,
   "id": "68db0968",
   "metadata": {},
   "outputs": [
    {
     "name": "stdout",
     "output_type": "stream",
     "text": [
      "2 23516.187156809403\n",
      "4 13184.379803284583\n",
      "8 8713.024996834318\n",
      "16 6298.197070555686\n",
      "32 4401.962572090256\n",
      "48 3578.901351359332\n",
      "64 2976.4235874930596\n"
     ]
    }
   ],
   "source": [
    "n_clusters = [2, 4, 8, 16, 32, 48, 64]\n",
    "score = []\n",
    "\n",
    "for k in n_clusters:\n",
    "    kmeans = KMeans(k)\n",
    "    y_pred = kmeans.fit_predict(X_trans)\n",
    "    score.append(calinski_harabasz_score(X_trans, y_pred))\n",
    "    print(k, score[-1])"
   ]
  },
  {
   "cell_type": "code",
   "execution_count": 69,
   "id": "5e864d76",
   "metadata": {},
   "outputs": [
    {
     "data": {
      "text/plain": [
       "KMeans(n_clusters=16)"
      ]
     },
     "execution_count": 69,
     "metadata": {},
     "output_type": "execute_result"
    }
   ],
   "source": [
    "kmeans = KMeans(16)\n",
    "kmeans.fit(X_trans)"
   ]
  },
  {
   "cell_type": "code",
   "execution_count": 61,
   "id": "018c9048",
   "metadata": {},
   "outputs": [
    {
     "data": {
      "text/plain": [
       "(100000, 1)"
      ]
     },
     "execution_count": 61,
     "metadata": {},
     "output_type": "execute_result"
    }
   ],
   "source": [
    "y_pred.shape"
   ]
  },
  {
   "cell_type": "code",
   "execution_count": 63,
   "id": "4d249a4a",
   "metadata": {},
   "outputs": [],
   "source": [
    "y_pred = kmeans.predict_proba(X_trans)"
   ]
  },
  {
   "cell_type": "code",
   "execution_count": 64,
   "id": "049c5a80",
   "metadata": {},
   "outputs": [
    {
     "data": {
      "text/plain": [
       "(100000, 16)"
      ]
     },
     "execution_count": 64,
     "metadata": {},
     "output_type": "execute_result"
    }
   ],
   "source": [
    "y_pred.shape"
   ]
  },
  {
   "cell_type": "code",
   "execution_count": 65,
   "id": "d88eb65b",
   "metadata": {},
   "outputs": [],
   "source": [
    "from sklearn.linear_model import LogisticRegression"
   ]
  },
  {
   "cell_type": "code",
   "execution_count": 66,
   "id": "de17f963",
   "metadata": {},
   "outputs": [
    {
     "data": {
      "text/plain": [
       "0.59101"
      ]
     },
     "execution_count": 66,
     "metadata": {},
     "output_type": "execute_result"
    }
   ],
   "source": [
    "lr = LogisticRegression()\n",
    "lr.fit(y_pred, y)\n",
    "lr.score(y_pred, y)"
   ]
  },
  {
   "cell_type": "code",
   "execution_count": null,
   "id": "9430ecd6",
   "metadata": {},
   "outputs": [],
   "source": [
    "from sklearn.tree import DecisionTreeClassifier"
   ]
  },
  {
   "cell_type": "code",
   "execution_count": 70,
   "id": "14bf4d3a",
   "metadata": {},
   "outputs": [],
   "source": [
    "y_pred = kmeans.predict(X_trans).reshape((-1, 1))"
   ]
  },
  {
   "cell_type": "code",
   "execution_count": 71,
   "id": "5770ec50",
   "metadata": {},
   "outputs": [
    {
     "data": {
      "text/plain": [
       "0.62841"
      ]
     },
     "execution_count": 71,
     "metadata": {},
     "output_type": "execute_result"
    }
   ],
   "source": [
    "lr = DecisionTreeClassifier()\n",
    "lr.fit(y_pred, y)\n",
    "lr.score(y_pred, y)"
   ]
  },
  {
   "cell_type": "code",
   "execution_count": null,
   "id": "d40712a6",
   "metadata": {},
   "outputs": [],
   "source": []
  },
  {
   "cell_type": "code",
   "execution_count": null,
   "id": "28f635c1",
   "metadata": {},
   "outputs": [],
   "source": []
  },
  {
   "cell_type": "code",
   "execution_count": 30,
   "id": "e03a29df",
   "metadata": {},
   "outputs": [
    {
     "data": {
      "text/plain": [
       "0.62648"
      ]
     },
     "execution_count": 30,
     "metadata": {},
     "output_type": "execute_result"
    }
   ],
   "source": [
    "acc = 0\n",
    "tot = 0\n",
    "for cluster_id in set(y_pred):\n",
    "    tot += sum(y_pred == cluster_id)\n",
    "    acc += np.eye(3)[y][y_pred == cluster_id].sum(axis=0).max()\n",
    "acc/tot"
   ]
  },
  {
   "cell_type": "code",
   "execution_count": null,
   "id": "06a2f7c7",
   "metadata": {},
   "outputs": [],
   "source": []
  },
  {
   "cell_type": "code",
   "execution_count": null,
   "id": "f0f58ed3",
   "metadata": {},
   "outputs": [],
   "source": []
  },
  {
   "cell_type": "code",
   "execution_count": null,
   "id": "b047aa03",
   "metadata": {},
   "outputs": [],
   "source": [
    "error = np.sum((preds - X_train)**2, axis=1)\n",
    "error.shape"
   ]
  },
  {
   "cell_type": "code",
   "execution_count": null,
   "id": "b3cfea29",
   "metadata": {},
   "outputs": [],
   "source": [
    "kmeans.cluster_centers_"
   ]
  },
  {
   "cell_type": "code",
   "execution_count": null,
   "id": "3dc1871c",
   "metadata": {},
   "outputs": [],
   "source": []
  },
  {
   "cell_type": "code",
   "execution_count": null,
   "id": "c87d4734",
   "metadata": {},
   "outputs": [],
   "source": []
  },
  {
   "cell_type": "code",
   "execution_count": null,
   "id": "3362c871",
   "metadata": {},
   "outputs": [],
   "source": []
  },
  {
   "cell_type": "code",
   "execution_count": null,
   "id": "85800726",
   "metadata": {},
   "outputs": [],
   "source": [
    "pca = PCA()\n",
    "X2 = pca.fit_transform(X_train)"
   ]
  },
  {
   "cell_type": "code",
   "execution_count": null,
   "id": "c433a163",
   "metadata": {},
   "outputs": [],
   "source": [
    "import matplotlib.pyplot as plt"
   ]
  },
  {
   "cell_type": "code",
   "execution_count": null,
   "id": "8377305c",
   "metadata": {},
   "outputs": [],
   "source": [
    "plt.scatter(X2[:,0], X2[:, 1], c=y_train)"
   ]
  },
  {
   "cell_type": "code",
   "execution_count": null,
   "id": "6453f3e4",
   "metadata": {},
   "outputs": [],
   "source": [
    "from sklearn.manifold import TSNE"
   ]
  },
  {
   "cell_type": "code",
   "execution_count": null,
   "id": "4af4d27e",
   "metadata": {},
   "outputs": [],
   "source": [
    "tsne = TSNE()\n",
    "X2 = tsne.fit_transform(X_train)"
   ]
  },
  {
   "cell_type": "code",
   "execution_count": null,
   "id": "3e753c14",
   "metadata": {},
   "outputs": [],
   "source": [
    "plt.scatter(X2[:,0], X2[:, 1], c=y_train)"
   ]
  },
  {
   "cell_type": "code",
   "execution_count": null,
   "id": "64a0308b",
   "metadata": {},
   "outputs": [],
   "source": []
  }
 ],
 "metadata": {
  "kernelspec": {
   "display_name": "Python 3 (ipykernel)",
   "language": "python",
   "name": "python3"
  },
  "language_info": {
   "codemirror_mode": {
    "name": "ipython",
    "version": 3
   },
   "file_extension": ".py",
   "mimetype": "text/x-python",
   "name": "python",
   "nbconvert_exporter": "python",
   "pygments_lexer": "ipython3",
   "version": "3.9.5"
  }
 },
 "nbformat": 4,
 "nbformat_minor": 5
}
